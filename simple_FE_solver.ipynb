{
 "cells": [
  {
   "cell_type": "markdown",
   "metadata": {
    "tags": []
   },
   "source": [
    "# Example of implementation: an extending ice cube\n",
    "## Intro, imports, and images\n",
    "**This notebook accompanies Miele et al. (in review)**. It applies the finite element method to obtain the velocity field of a cube of ice, of side length $h$, spreading horizontally and compressing vertically under its own weight. The setup is depicted in Figure 1 of the accompanying manuscript, which is reproduced [below](#Figure-1). This script uses the symbolic math library ```SymPy``` to solve the FEM equations symbolically, and it provides the option of solving numerically with functions from ```NumPy``` and ```SciPy```. The workflow of the code mirrors the workflow beginning on page 15 of the manuscript and can be used to verify the derivations presented in that section. **All equation numbers are in reference to the paper**. Access this notebook interactively with Binder: [![Binder](https://mybinder.org/badge_logo.svg)](https://mybinder.org/v2/gh/chrismiele/ice_cube/main)"
   ]
  },
  {
   "cell_type": "code",
   "execution_count": 1,
   "metadata": {},
   "outputs": [],
   "source": [
    "import sympy as sp\n",
    "import numpy as np\n",
    "from scipy.integrate import dblquad, tplquad #double and triple numeric integration\n",
    "import time\n",
    "start = time.time()"
   ]
  },
  {
   "cell_type": "markdown",
   "metadata": {},
   "source": [
    "This code will be slightly more flexible than the example presented in Miele et al. (in review). The default settings will solve the problem posed in the manuscript: the hydrostatic approximation for a cube in **biaxial extension** (i.e., extending both longitudinally and laterally, with ice cliffs at $x = h$ and $y = h$). This script will provide the additional option of solving for **uniaxial extension** (i.e., extending only longitudinally, between slippery lateral barriers at $y = h$ and $y = 0$). Setting ```biaxial_spread``` to ```False``` in the code block below will solve the uniaxial extension problem.\n",
    "\n",
    "Additionally, either of these problems can be solved via the **hydrostatic approximation**, as done in the paper, or via the **Blatter-Pattyn** (BP) approximation. Solve BP by setting ```hydrostatic_approx``` to ```False```.\n",
    "\n",
    "Finally, by default, this notebook provides **symbolic** solutions (in which all variables are kept general). However, if ```symbolic_solution``` is set to ```False```, the equations are solved **numerically**, given values specified in the [third code cell](#Spatial-variables,-dimensions,-and-physical-parameters). Solve symbolically to conceptually explore each step in the algorithm, or solve numerically to utilize more efficient calculation techniques.\n",
    "\n",
    "To compare the efficiency of these various solution approaches, uncomment the final line of code at the [end of this notebook](#Nonlinear-interpolated-solution) and run the entire script."
   ]
  },
  {
   "cell_type": "code",
   "execution_count": 2,
   "metadata": {},
   "outputs": [],
   "source": [
    "biaxial_spread = True \n",
    "hydrostatic_approx = True \n",
    "symbolic_solution = True"
   ]
  },
  {
   "cell_type": "markdown",
   "metadata": {},
   "source": [
    "### Figure 1\n",
    "\n",
    "The domain over which we implement our finite element system of equations. The shaded area represents the quadrant of the ice block within which we obtain our 3D velocity field. The block is meshed as indicated by the node numbers shown, with node 1 at the origin, node 2 at $(0, h, 0)$, and so on. The bottom surface ($z = 0$) rests on a hard, slippery barrier.\n",
    "\n",
    "<img src='cube.PNG' width='500'>\n",
    "\n",
    "## Spatial variables, dimensions, and physical parameters\n",
    "Define the spatial coordinates $x$, $y$, and $z$, alongside the side length $h$, viscosity $\\mu$, density $\\rho$, gravitational constant $g$, rate factor $A$, and flow exponent $n$. Units are meters, seconds, kilograms, Pascals, etc. "
   ]
  },
  {
   "cell_type": "code",
   "execution_count": 3,
   "metadata": {},
   "outputs": [],
   "source": [
    "x, y, z = sp.symbols('x, y, z', real=True)\n",
    "\n",
    "if symbolic_solution: #if we want a symbolic solution:\n",
    "    h, μ, ρ, g, A, n = sp.symbols('h, μ, ρ, g, A, n', positive=True, constant=True) #keep variables general\n",
    "else: #if solving numerically:\n",
    "    h, μ, ρ, g, A, n = 100, 4e13, 917, 9.8, 1e-23, 3\n"
   ]
  },
  {
   "cell_type": "markdown",
   "metadata": {},
   "source": [
    "As well, define the lithostatic vector $\\boldsymbol{\\Lambda}$ and body force vector $\\mathbf{b}$. For the hydrostatic approximation, these terms are given in Table 1 from Miele et al. (in review) as\n",
    "\n",
    "$$\\boldsymbol{\\Lambda} := \\rho g(h-z)\\begin{bmatrix}1 & 1 & 1 & 0 & 0 & 0\\end{bmatrix}^T \\hspace{1cm} \\text{and} \\hspace{1cm}\\mathbf{b} := -\\rho g\\begin{bmatrix}0 & 0 & 1\\end{bmatrix}^T$$ \n",
    "\n",
    "However, if solving Blatter-Pattyn, the dimension of the problem is reduced (refer again to Table 1), and the definitions of $\\boldsymbol{\\Lambda}$ and $\\mathbf{b}$ become\n",
    "\n",
    "$$\\boldsymbol{\\Lambda} := \\rho g(h-z)\\begin{bmatrix}1 & 1 & 0 & 0 & 0\\end{bmatrix}^T \\hspace{1cm} \\text{and} \\hspace{1cm}\\mathbf{b} := -\\rho g\\begin{bmatrix}0 & 0\\end{bmatrix}^T$$\n",
    "\n",
    "Notice that the Blatter-Pattyn definitions are nearly identical to the hydrostatic definitions, but with the third components omitted. Below, we provide the appropriate descriptions of $\\boldsymbol{\\Lambda}$ and $\\mathbf{b}$ for whichever approximation has been selected. We'll also include some other variables and lists to help with bookkeeping:"
   ]
  },
  {
   "cell_type": "code",
   "execution_count": 4,
   "metadata": {},
   "outputs": [
    {
     "name": "stdout",
     "output_type": "stream",
     "text": [
      "This notebook is now set up to solve for [ ux uy uz ], which has nodal components:\n",
      "[ u1x u1y u1z u2x u2y u2z ... u7x u7y u7z u8x u8y u8z ]\n"
     ]
    }
   ],
   "source": [
    "Λ = ρ*g*(h-z)*sp.Matrix([1, 1, 1, 0, 0, 0]) if hydrostatic_approx else ρ*g*(h-z)*sp.Matrix([1, 1, 0, 0, 0])\n",
    "b = -ρ*g*sp.Matrix([0, 0, 1]) if hydrostatic_approx else -ρ*g*sp.Matrix([0, 0])\n",
    "\n",
    "dim = b.rows #this will be the dimension of the velocity solution (3 if hydrostatic, 2 if BP)\n",
    "n_nodes = 8 #one node at each corner of the cube \n",
    "\n",
    "vel_field = ['u{}'.format(i) for i in ('x', 'y', 'z')[:dim]] #[ux, uy, (uz)]\n",
    "nodal_vel = ['u{}{}'.format(i, j) for i in range(1, 9) for j in ('x', 'y', 'z')[:dim]] #[u1x, u1y, (u1z), ...]\n",
    "\n",
    "print('This notebook is now set up to solve for [', *vel_field, '], which has nodal components:')\n",
    "print('[', *nodal_vel[:2*dim], '...', *nodal_vel[-2*dim:], ']')"
   ]
  },
  {
   "cell_type": "markdown",
   "metadata": {},
   "source": [
    "## Symmetric and resistive gradient operators \n",
    "For the hydrostatic approximation, the symmetric and resistive gradient operators are defined in Table 1 of the manuscript as\n",
    "\n",
    "$$\\boldsymbol{\\nabla}_S := \\begin{bmatrix}\\frac{\\partial}{\\partial x} & 0 & 0\\\\\n",
    "0 & \\frac{\\partial}{\\partial y} & 0\\\\\n",
    "0 & 0 & \\frac{\\partial}{\\partial z}\\\\\n",
    "\\frac{\\partial}{\\partial y} & \\frac{\\partial}{\\partial x} & 0\\\\\n",
    "\\frac{\\partial}{\\partial z} & 0 & \\frac{\\partial}{\\partial x}\\\\\n",
    "0 & \\frac{\\partial}{\\partial z} & \\frac{\\partial}{\\partial y}\n",
    "\\end{bmatrix} \\hspace{1cm} \\text{and} \\hspace {1cm}\\boldsymbol{\\nabla}_R := \\begin{bmatrix}4\\frac{\\partial}{\\partial x} & 2\\frac{\\partial}{\\partial y} & 0\\\\\n",
    "2\\frac{\\partial}{\\partial x} & 4\\frac{\\partial}{\\partial y} & 0\\\\\n",
    "2\\frac{\\partial}{\\partial x} & 2\\frac{\\partial}{\\partial y} & 2\\frac{\\partial}{\\partial z}\\\\\n",
    "\\frac{\\partial}{\\partial y} & \\frac{\\partial}{\\partial x} & 0\\\\\n",
    "\\frac{\\partial}{\\partial z} & 0 & \\frac{\\partial}{\\partial x}\\\\\n",
    "0 & \\frac{\\partial}{\\partial z} & \\frac{\\partial}{\\partial y}\n",
    "\\end{bmatrix}$$\n",
    "\n",
    "For BP, Table 1 shows that the appropriate definitions are similar to those given above, but with the third row and column omitted from each. For either case, we include these operators as functions, ```nabla_S``` and ```nabla_R```. For example, the function ```nabla_S``` will take a matrix ```M``` as input and return the matrix product $\\boldsymbol{\\nabla}_S\\mathbf{M}$. "
   ]
  },
  {
   "cell_type": "code",
   "execution_count": 5,
   "metadata": {},
   "outputs": [],
   "source": [
    "def nabla_S(M):\n",
    "    out = sp.zeros(Λ.rows, M.cols) #initialize output with either 5 or 6 rows (depending on Λ)\n",
    "    for i in range(M.cols):\n",
    "        out[0, i] = sp.diff(M[0, i], x) #∂/∂x(M[0, i])\n",
    "        out[1, i] = sp.diff(M[1, i], y) #∂/∂y(M[1, i])\n",
    "        out[-3, i] = sp.diff(M[0, i], y) + sp.diff(M[1, i], x) #etc.\n",
    "        out[-2, i] = sp.diff(M[0, i], z) + sp.diff(M[2, i], x) if hydrostatic_approx else sp.diff(M[0, i], z)\n",
    "        out[-1, i] = sp.diff(M[1, i], z) + sp.diff(M[2, i], y) if hydrostatic_approx else sp.diff(M[1, i], z)\n",
    "        if hydrostatic_approx: #the third row, out[2], hasn't yet been filled in this case:\n",
    "            out[2, i] = sp.diff(M[2, i], z)\n",
    "    return out #return the dot product ∇_S*M\n",
    "\n",
    "def nabla_R(M):\n",
    "    out = sp.zeros(Λ.rows, M.cols) #initialize output\n",
    "    for i in range(M.cols):\n",
    "        out[0, i] = 4*sp.diff(M[0, i], x) + 2*sp.diff(M[1, i], y) #4∂/∂x(M[0, i]) + 2∂/∂y(M[1, i])\n",
    "        out[1, i] = 2*sp.diff(M[0, i], x) + 4*sp.diff(M[1, i], y) #etc.\n",
    "        out[-3, i] = sp.diff(M[0, i], y) + sp.diff(M[1, i], x)\n",
    "        out[-2, i] = sp.diff(M[0, i], z) + sp.diff(M[2, i], x) if hydrostatic_approx else sp.diff(M[0, i], z)\n",
    "        out[-1, i] = sp.diff(M[1, i], z) + sp.diff(M[2, i], y) if hydrostatic_approx else sp.diff(M[1, i], z)\n",
    "        if hydrostatic_approx: #fill the third row, out[2]:\n",
    "            out[2, i] = 2*sp.diff(M[0, i], x) + 2*sp.diff(M[1, i], y) + 2*sp.diff(M[2, i], z)\n",
    "    return out #return the dot product ∇_R*M"
   ]
  },
  {
   "cell_type": "markdown",
   "metadata": {},
   "source": [
    "## Shape functions and their gradients\n",
    "The nodal shape functions $N_1$ through $N_8$ are defined such that $N_i$ evaluates to one at node $i$ and zero at every other node. It can be directly verified that the functions below satisfy this property for the setup shown in [Figure 1](#Figure-1). These functions are also given in Equation 26."
   ]
  },
  {
   "cell_type": "code",
   "execution_count": 6,
   "metadata": {},
   "outputs": [
    {
     "name": "stdout",
     "output_type": "stream",
     "text": [
      "N2 evaluated at node 2: N2(0, h, 0) = 1\n",
      "N2 evaluated at node 5: N2(h, 0, h) = 0\n"
     ]
    }
   ],
   "source": [
    "N1 = (h-x)*(h-y)*(h-z)/h**3\n",
    "N2 = (h-x)*y*(h-z)/h**3\n",
    "N3 = x*y*(h-z)/h**3\n",
    "N4 = x*(h-y)*(h-z)/h**3\n",
    "N5 = x*(h-y)*z/h**3\n",
    "N6 = (h-x)*(h-y)*z/h**3\n",
    "N7 = (h-x)*y*z/h**3\n",
    "N8 = x*y*z/h**3\n",
    "\n",
    "#for example, node 2 is at (0, h, 0) and node 5 is at (h, 0, h)\n",
    "print('N2 evaluated at node 2:', 'N2(0, h, 0) =', N2.subs({x:0, y:h, z:0}))\n",
    "print('N2 evaluated at node 5:', 'N2(h, 0, h) =', N2.subs({x:h, y:0, z:h}))"
   ]
  },
  {
   "cell_type": "markdown",
   "metadata": {},
   "source": [
    "Next, it's useful to express these shape function in matrix form. For the hydrostatic approximation, the matrix has the form \n",
    "\n",
    "$$\\mathbf{N} := \\begin{bmatrix}N_1 & 0 & 0 & N_2 & 0 & 0 & ... & N_8 & 0 & 0\\\\\n",
    "0 & N_1 & 0 & 0 & N_2 & 0 & ... & 0 & N_8 & 0\\\\\n",
    "0 & 0 & N_1 & 0 & 0 & N_2 & ... & 0 & 0 & N_8\n",
    "\\end{bmatrix}$$\n",
    "\n",
    "If solving Blatter-Pattyn, $\\mathbf{N}$ has reduced dimension, with\n",
    "\n",
    "$$\\mathbf{N} := \\begin{bmatrix}N_1 & 0 & N_2 & 0 & ... & N_8 & 0\\\\\n",
    "0 & N_1 & 0 & N_2 & ... & 0 & N_8\\\\\n",
    "\\end{bmatrix}$$"
   ]
  },
  {
   "cell_type": "code",
   "execution_count": 7,
   "metadata": {},
   "outputs": [
    {
     "name": "stdout",
     "output_type": "stream",
     "text": [
      "Shape function in matrix form:\n"
     ]
    },
    {
     "data": {
      "text/latex": [
       "$\\displaystyle \\left[\\begin{array}{cccccccccccccccccccccccc}\\frac{\\left(h - x\\right) \\left(h - y\\right) \\left(h - z\\right)}{h^{3}} & 0 & 0 & \\frac{y \\left(h - x\\right) \\left(h - z\\right)}{h^{3}} & 0 & 0 & \\frac{x y \\left(h - z\\right)}{h^{3}} & 0 & 0 & \\frac{x \\left(h - y\\right) \\left(h - z\\right)}{h^{3}} & 0 & 0 & \\frac{x z \\left(h - y\\right)}{h^{3}} & 0 & 0 & \\frac{z \\left(h - x\\right) \\left(h - y\\right)}{h^{3}} & 0 & 0 & \\frac{y z \\left(h - x\\right)}{h^{3}} & 0 & 0 & \\frac{x y z}{h^{3}} & 0 & 0\\\\0 & \\frac{\\left(h - x\\right) \\left(h - y\\right) \\left(h - z\\right)}{h^{3}} & 0 & 0 & \\frac{y \\left(h - x\\right) \\left(h - z\\right)}{h^{3}} & 0 & 0 & \\frac{x y \\left(h - z\\right)}{h^{3}} & 0 & 0 & \\frac{x \\left(h - y\\right) \\left(h - z\\right)}{h^{3}} & 0 & 0 & \\frac{x z \\left(h - y\\right)}{h^{3}} & 0 & 0 & \\frac{z \\left(h - x\\right) \\left(h - y\\right)}{h^{3}} & 0 & 0 & \\frac{y z \\left(h - x\\right)}{h^{3}} & 0 & 0 & \\frac{x y z}{h^{3}} & 0\\\\0 & 0 & \\frac{\\left(h - x\\right) \\left(h - y\\right) \\left(h - z\\right)}{h^{3}} & 0 & 0 & \\frac{y \\left(h - x\\right) \\left(h - z\\right)}{h^{3}} & 0 & 0 & \\frac{x y \\left(h - z\\right)}{h^{3}} & 0 & 0 & \\frac{x \\left(h - y\\right) \\left(h - z\\right)}{h^{3}} & 0 & 0 & \\frac{x z \\left(h - y\\right)}{h^{3}} & 0 & 0 & \\frac{z \\left(h - x\\right) \\left(h - y\\right)}{h^{3}} & 0 & 0 & \\frac{y z \\left(h - x\\right)}{h^{3}} & 0 & 0 & \\frac{x y z}{h^{3}}\\end{array}\\right]$"
      ],
      "text/plain": [
       "Matrix([\n",
       "[(h - x)*(h - y)*(h - z)/h**3,                            0,                            0, y*(h - x)*(h - z)/h**3,                      0,                      0, x*y*(h - z)/h**3,                0,                0, x*(h - y)*(h - z)/h**3,                      0,                      0, x*z*(h - y)/h**3,                0,                0, z*(h - x)*(h - y)/h**3,                      0,                      0, y*z*(h - x)/h**3,                0,                0, x*y*z/h**3,          0,          0],\n",
       "[                           0, (h - x)*(h - y)*(h - z)/h**3,                            0,                      0, y*(h - x)*(h - z)/h**3,                      0,                0, x*y*(h - z)/h**3,                0,                      0, x*(h - y)*(h - z)/h**3,                      0,                0, x*z*(h - y)/h**3,                0,                      0, z*(h - x)*(h - y)/h**3,                      0,                0, y*z*(h - x)/h**3,                0,          0, x*y*z/h**3,          0],\n",
       "[                           0,                            0, (h - x)*(h - y)*(h - z)/h**3,                      0,                      0, y*(h - x)*(h - z)/h**3,                0,                0, x*y*(h - z)/h**3,                      0,                      0, x*(h - y)*(h - z)/h**3,                0,                0, x*z*(h - y)/h**3,                      0,                      0, z*(h - x)*(h - y)/h**3,                0,                0, y*z*(h - x)/h**3,          0,          0, x*y*z/h**3]])"
      ]
     },
     "execution_count": 7,
     "metadata": {},
     "output_type": "execute_result"
    }
   ],
   "source": [
    "#first, merge the shape functions into an 8-by-1 vector for easy iteration\n",
    "vec_N = sp.Matrix([N1, N2, N3, N4, N5, N6, N7, N8])\n",
    "\n",
    "#now construct the shape function N as a dim-by-dim*n_nodes matrix\n",
    "I = sp.eye(dim) #dim-by-dim identity matrix\n",
    "N = sp.Matrix([[I*vec_N[i] for i in range(n_nodes)]]) #define N by its square submatrices I*N_i\n",
    "\n",
    "print('Shape function in matrix form:')\n",
    "N"
   ]
  },
  {
   "cell_type": "markdown",
   "metadata": {},
   "source": [
    "The gradients of the shape function are $\\mathbf{B}_S = \\boldsymbol{\\nabla}_S\\mathbf{N}$ and $\\mathbf{B}_R = \\boldsymbol{\\nabla}_R\\mathbf{N}$, which are evaluated as"
   ]
  },
  {
   "cell_type": "code",
   "execution_count": 8,
   "metadata": {},
   "outputs": [
    {
     "name": "stdout",
     "output_type": "stream",
     "text": [
      "Resistive gradient of the shape function matrix, ∇_R*N := B_R\n"
     ]
    },
    {
     "data": {
      "text/latex": [
       "$\\displaystyle \\left[\\begin{array}{cccccccccccccccccccccccc}- \\frac{4 \\left(h - y\\right) \\left(h - z\\right)}{h^{3}} & - \\frac{2 \\left(h - x\\right) \\left(h - z\\right)}{h^{3}} & 0 & \\frac{4 y \\left(- h + z\\right)}{h^{3}} & \\frac{2 \\left(h - x\\right) \\left(h - z\\right)}{h^{3}} & 0 & \\frac{4 y \\left(h - z\\right)}{h^{3}} & \\frac{2 x \\left(h - z\\right)}{h^{3}} & 0 & \\frac{4 \\left(h - y\\right) \\left(h - z\\right)}{h^{3}} & \\frac{2 x \\left(- h + z\\right)}{h^{3}} & 0 & \\frac{4 z \\left(h - y\\right)}{h^{3}} & - \\frac{2 x z}{h^{3}} & 0 & \\frac{4 z \\left(- h + y\\right)}{h^{3}} & \\frac{2 z \\left(- h + x\\right)}{h^{3}} & 0 & - \\frac{4 y z}{h^{3}} & \\frac{2 z \\left(h - x\\right)}{h^{3}} & 0 & \\frac{4 y z}{h^{3}} & \\frac{2 x z}{h^{3}} & 0\\\\- \\frac{2 \\left(h - y\\right) \\left(h - z\\right)}{h^{3}} & - \\frac{4 \\left(h - x\\right) \\left(h - z\\right)}{h^{3}} & 0 & \\frac{2 y \\left(- h + z\\right)}{h^{3}} & \\frac{4 \\left(h - x\\right) \\left(h - z\\right)}{h^{3}} & 0 & \\frac{2 y \\left(h - z\\right)}{h^{3}} & \\frac{4 x \\left(h - z\\right)}{h^{3}} & 0 & \\frac{2 \\left(h - y\\right) \\left(h - z\\right)}{h^{3}} & \\frac{4 x \\left(- h + z\\right)}{h^{3}} & 0 & \\frac{2 z \\left(h - y\\right)}{h^{3}} & - \\frac{4 x z}{h^{3}} & 0 & \\frac{2 z \\left(- h + y\\right)}{h^{3}} & \\frac{4 z \\left(- h + x\\right)}{h^{3}} & 0 & - \\frac{2 y z}{h^{3}} & \\frac{4 z \\left(h - x\\right)}{h^{3}} & 0 & \\frac{2 y z}{h^{3}} & \\frac{4 x z}{h^{3}} & 0\\\\- \\frac{2 \\left(h - y\\right) \\left(h - z\\right)}{h^{3}} & - \\frac{2 \\left(h - x\\right) \\left(h - z\\right)}{h^{3}} & - \\frac{2 \\left(h - x\\right) \\left(h - y\\right)}{h^{3}} & \\frac{2 y \\left(- h + z\\right)}{h^{3}} & \\frac{2 \\left(h - x\\right) \\left(h - z\\right)}{h^{3}} & \\frac{2 y \\left(- h + x\\right)}{h^{3}} & \\frac{2 y \\left(h - z\\right)}{h^{3}} & \\frac{2 x \\left(h - z\\right)}{h^{3}} & - \\frac{2 x y}{h^{3}} & \\frac{2 \\left(h - y\\right) \\left(h - z\\right)}{h^{3}} & \\frac{2 x \\left(- h + z\\right)}{h^{3}} & \\frac{2 x \\left(- h + y\\right)}{h^{3}} & \\frac{2 z \\left(h - y\\right)}{h^{3}} & - \\frac{2 x z}{h^{3}} & \\frac{2 x \\left(h - y\\right)}{h^{3}} & \\frac{2 z \\left(- h + y\\right)}{h^{3}} & \\frac{2 z \\left(- h + x\\right)}{h^{3}} & \\frac{2 \\left(h - x\\right) \\left(h - y\\right)}{h^{3}} & - \\frac{2 y z}{h^{3}} & \\frac{2 z \\left(h - x\\right)}{h^{3}} & \\frac{2 y \\left(h - x\\right)}{h^{3}} & \\frac{2 y z}{h^{3}} & \\frac{2 x z}{h^{3}} & \\frac{2 x y}{h^{3}}\\\\- \\frac{\\left(h - x\\right) \\left(h - z\\right)}{h^{3}} & - \\frac{\\left(h - y\\right) \\left(h - z\\right)}{h^{3}} & - \\frac{\\left(h - x\\right) \\left(h - z\\right)}{h^{3}} & \\frac{\\left(h - x\\right) \\left(h - z\\right)}{h^{3}} & \\frac{y \\left(- h + z\\right)}{h^{3}} & \\frac{\\left(h - x\\right) \\left(h - z\\right)}{h^{3}} & \\frac{x \\left(h - z\\right)}{h^{3}} & \\frac{y \\left(h - z\\right)}{h^{3}} & \\frac{x \\left(h - z\\right)}{h^{3}} & \\frac{x \\left(- h + z\\right)}{h^{3}} & \\frac{\\left(h - y\\right) \\left(h - z\\right)}{h^{3}} & \\frac{x \\left(- h + z\\right)}{h^{3}} & - \\frac{x z}{h^{3}} & \\frac{z \\left(h - y\\right)}{h^{3}} & - \\frac{x z}{h^{3}} & \\frac{z \\left(- h + x\\right)}{h^{3}} & \\frac{z \\left(- h + y\\right)}{h^{3}} & \\frac{z \\left(- h + x\\right)}{h^{3}} & \\frac{z \\left(h - x\\right)}{h^{3}} & - \\frac{y z}{h^{3}} & \\frac{z \\left(h - x\\right)}{h^{3}} & \\frac{x z}{h^{3}} & \\frac{y z}{h^{3}} & \\frac{x z}{h^{3}}\\\\- \\frac{\\left(h - x\\right) \\left(h - y\\right)}{h^{3}} & 0 & - \\frac{\\left(h - y\\right) \\left(h - z\\right)}{h^{3}} & \\frac{y \\left(- h + x\\right)}{h^{3}} & 0 & \\frac{y \\left(- h + z\\right)}{h^{3}} & - \\frac{x y}{h^{3}} & 0 & \\frac{y \\left(h - z\\right)}{h^{3}} & \\frac{x \\left(- h + y\\right)}{h^{3}} & 0 & \\frac{\\left(h - y\\right) \\left(h - z\\right)}{h^{3}} & \\frac{x \\left(h - y\\right)}{h^{3}} & 0 & \\frac{z \\left(h - y\\right)}{h^{3}} & \\frac{\\left(h - x\\right) \\left(h - y\\right)}{h^{3}} & 0 & \\frac{z \\left(- h + y\\right)}{h^{3}} & \\frac{y \\left(h - x\\right)}{h^{3}} & 0 & - \\frac{y z}{h^{3}} & \\frac{x y}{h^{3}} & 0 & \\frac{y z}{h^{3}}\\\\0 & - \\frac{\\left(h - x\\right) \\left(h - y\\right)}{h^{3}} & 0 & 0 & \\frac{y \\left(- h + x\\right)}{h^{3}} & 0 & 0 & - \\frac{x y}{h^{3}} & 0 & 0 & \\frac{x \\left(- h + y\\right)}{h^{3}} & 0 & 0 & \\frac{x \\left(h - y\\right)}{h^{3}} & 0 & 0 & \\frac{\\left(h - x\\right) \\left(h - y\\right)}{h^{3}} & 0 & 0 & \\frac{y \\left(h - x\\right)}{h^{3}} & 0 & 0 & \\frac{x y}{h^{3}} & 0\\end{array}\\right]$"
      ],
      "text/plain": [
       "Matrix([\n",
       "[-4*(h - y)*(h - z)/h**3, -2*(h - x)*(h - z)/h**3,                       0,    4*y*(-h + z)/h**3, 2*(h - x)*(h - z)/h**3,                    0, 4*y*(h - z)/h**3, 2*x*(h - z)/h**3,              0, 4*(h - y)*(h - z)/h**3,    2*x*(-h + z)/h**3,                    0, 4*z*(h - y)/h**3,    -2*x*z/h**3,                0,    4*z*(-h + y)/h**3,    2*z*(-h + x)/h**3,                      0,    -4*y*z/h**3, 2*z*(h - x)/h**3,                0, 4*y*z/h**3, 2*x*z/h**3,          0],\n",
       "[-2*(h - y)*(h - z)/h**3, -4*(h - x)*(h - z)/h**3,                       0,    2*y*(-h + z)/h**3, 4*(h - x)*(h - z)/h**3,                    0, 2*y*(h - z)/h**3, 4*x*(h - z)/h**3,              0, 2*(h - y)*(h - z)/h**3,    4*x*(-h + z)/h**3,                    0, 2*z*(h - y)/h**3,    -4*x*z/h**3,                0,    2*z*(-h + y)/h**3,    4*z*(-h + x)/h**3,                      0,    -2*y*z/h**3, 4*z*(h - x)/h**3,                0, 2*y*z/h**3, 4*x*z/h**3,          0],\n",
       "[-2*(h - y)*(h - z)/h**3, -2*(h - x)*(h - z)/h**3, -2*(h - x)*(h - y)/h**3,    2*y*(-h + z)/h**3, 2*(h - x)*(h - z)/h**3,    2*y*(-h + x)/h**3, 2*y*(h - z)/h**3, 2*x*(h - z)/h**3,    -2*x*y/h**3, 2*(h - y)*(h - z)/h**3,    2*x*(-h + z)/h**3,    2*x*(-h + y)/h**3, 2*z*(h - y)/h**3,    -2*x*z/h**3, 2*x*(h - y)/h**3,    2*z*(-h + y)/h**3,    2*z*(-h + x)/h**3, 2*(h - x)*(h - y)/h**3,    -2*y*z/h**3, 2*z*(h - x)/h**3, 2*y*(h - x)/h**3, 2*y*z/h**3, 2*x*z/h**3, 2*x*y/h**3],\n",
       "[  -(h - x)*(h - z)/h**3,   -(h - y)*(h - z)/h**3,   -(h - x)*(h - z)/h**3, (h - x)*(h - z)/h**3,        y*(-h + z)/h**3, (h - x)*(h - z)/h**3,   x*(h - z)/h**3,   y*(h - z)/h**3, x*(h - z)/h**3,        x*(-h + z)/h**3, (h - y)*(h - z)/h**3,      x*(-h + z)/h**3,        -x*z/h**3, z*(h - y)/h**3,        -x*z/h**3,      z*(-h + x)/h**3,      z*(-h + y)/h**3,        z*(-h + x)/h**3, z*(h - x)/h**3,        -y*z/h**3,   z*(h - x)/h**3,   x*z/h**3,   y*z/h**3,   x*z/h**3],\n",
       "[  -(h - x)*(h - y)/h**3,                       0,   -(h - y)*(h - z)/h**3,      y*(-h + x)/h**3,                      0,      y*(-h + z)/h**3,        -x*y/h**3,                0, y*(h - z)/h**3,        x*(-h + y)/h**3,                    0, (h - y)*(h - z)/h**3,   x*(h - y)/h**3,              0,   z*(h - y)/h**3, (h - x)*(h - y)/h**3,                    0,        z*(-h + y)/h**3, y*(h - x)/h**3,                0,        -y*z/h**3,   x*y/h**3,          0,   y*z/h**3],\n",
       "[                      0,   -(h - x)*(h - y)/h**3,                       0,                    0,        y*(-h + x)/h**3,                    0,                0,        -x*y/h**3,              0,                      0,      x*(-h + y)/h**3,                    0,                0, x*(h - y)/h**3,                0,                    0, (h - x)*(h - y)/h**3,                      0,              0,   y*(h - x)/h**3,                0,          0,   x*y/h**3,          0]])"
      ]
     },
     "execution_count": 8,
     "metadata": {},
     "output_type": "execute_result"
    }
   ],
   "source": [
    "B_S = nabla_S(N)\n",
    "B_R = nabla_R(N)\n",
    "\n",
    "print('Resistive gradient of the shape function matrix, ∇_R*N := B_R')\n",
    "sp.simplify(B_R) #compare with Equation 28 for the biaxial extension setup"
   ]
  },
  {
   "cell_type": "markdown",
   "metadata": {},
   "source": [
    "## Boundary conditions\n",
    "### Velocity (Dirichlet) boundary conditions\n",
    "Nodal velocities are written symbolically in the previously-defined list ```nodal_vel```. Many of these components are already known by nature of the setup (see the paragraph following Equation 29), and, thus, constitute **Dirichlet boundary conditions**. For example, in the biaxial, hydrostatic case, $u_{1z} = u_{2z} = u_{3z} = u_{4z} = 0$ because the bottom of the cube rests on a hard barrier. By symmetry, $u_x = 0$ on the $y$ axis and $u_y = 0$ on the $x$ axis, and so $u_{1x} = u_{2x} = u_{6x} = u_{7x} = u_{1y} = u_{4y} = u_{5y} = u_{6y} = 0$. For the uniaxial case (i.e., ```biaxial_spread == False```), there is no lateral flow through the sides, and so each $y$ velocity component is also zero. If solving the Blatter-Pattyn approximation (i.e., ```hydrostatic_approx == False```), then there are no boundary conditions on $u_z$ since this component is not solved for. \n",
    "\n",
    "To code this information, we define a list, ```DBCs```, having the same length as ```nodal_vel``` but consisting only of 1s and 0s. ```DBCs``` will be 0 wherever the corresponding nodal velocity is prescribed to be zero, and 1 wherever velocity is unknown. Beginning with the most general case of the hydrostatic approximation in biaxial extension, we have:"
   ]
  },
  {
   "cell_type": "code",
   "execution_count": 9,
   "metadata": {},
   "outputs": [
    {
     "name": "stdout",
     "output_type": "stream",
     "text": [
      "In this list, 0s identify Dirichlet boundary conditions and 1s identify unknown velocity components.\n",
      "Components are ordered [ u1x u1y u1z u2x u2y u2z ... u7x u7y u7z u8x u8y u8z ]:\n"
     ]
    },
    {
     "data": {
      "text/latex": [
       "$\\displaystyle \\left[\\begin{array}{cccccccccccccccccccccccc}0 & 0 & 0 & 0 & 1 & 0 & 1 & 1 & 0 & 1 & 0 & 0 & 1 & 0 & 1 & 0 & 0 & 1 & 0 & 1 & 1 & 1 & 1 & 1\\end{array}\\right]$"
      ],
      "text/plain": [
       "Matrix([[0, 0, 0, 0, 1, 0, 1, 1, 0, 1, 0, 0, 1, 0, 1, 0, 0, 1, 0, 1, 1, 1, 1, 1]])"
      ]
     },
     "execution_count": 9,
     "metadata": {},
     "output_type": "execute_result"
    }
   ],
   "source": [
    "#identify the components with Dirichlet BCs for the biaxial, hydrostatic case:\n",
    "DBCs = [0, 0, 0, #u1x, u1y, u1z = 0\n",
    "     0, 1, 0, #u2x, u2z = 0 while u2y is unknown\n",
    "     1, 1, 0, #u3x, u3y are unknown while u3z is zero\n",
    "     1, 0, 0, #etc.\n",
    "     1, 0, 1, \n",
    "     0, 0, 1, \n",
    "     0, 1, 1,\n",
    "     1, 1, 1]\n",
    "\n",
    "if not biaxial_spread: #if solving for uniaxial extension:\n",
    "    DBCs[1::3] = [0]*len(DBCs[1::3]) #set u1y, u2y, u3y, etc. to zero:\n",
    "\n",
    "if not hydrostatic_approx: #if solving Blatter-Pattyn:\n",
    "    del DBCs[2::3] #delete u1z, u2z, u3z, etc.\n",
    "   \n",
    "print('In this list, 0s identify Dirichlet boundary conditions and 1s identify unknown velocity components.')\n",
    "print('Components are ordered [', *nodal_vel[:2*dim], '...', *nodal_vel[-2*dim:], ']:')\n",
    "sp.Matrix(DBCs).T"
   ]
  },
  {
   "cell_type": "markdown",
   "metadata": {},
   "source": [
    "### Traction (Neumann) boundary conditions\n",
    "In the biaxial spreading case discussed in the manuscript, the positive $x$ and $y$ faces are associated with depth-averaged ice cliff boundary conditions:\n",
    "\n",
    "$$\\mathbf{t}_X = \\rho g\\left(z - \\frac{h}{2}\\right)\\hat{\\mathbf{i}}\\hspace{1cm} \\text{and} \\hspace{1cm} \\mathbf{t}_Y = \\rho g\\left(z - \\frac{h}{2}\\right)\\hat{\\mathbf{j}}$$\n",
    "\n",
    "In the uniaxial setup, $\\mathbf{t}_X$ is the same because the positive $x$ boundary remains a free ice cliff, but the positive and negative $y$ boundaries must have zero lateral extension; that is, $\\tau_{yy}|_{y = h} = \\tau_{yy}|_{y = 0} = 0$. This is the case when the net stress, $\\sigma_{yy}$, is simply equal to the overburden pressure at these locations. Therefore, in a uniaxial extending regime,\n",
    "\n",
    "$$\\mathbf{t}_Y = \\rho g(z-h)\\hat{\\mathbf{j}}\\hspace{1cm} \\text{and} \\hspace{1cm}\\mathbf{t}_{negY} = \\rho g(z-h)\\left(-\\hat{\\mathbf{j}}\\right)$$"
   ]
  },
  {
   "cell_type": "code",
   "execution_count": 10,
   "metadata": {},
   "outputs": [],
   "source": [
    "i_hat, j_hat = I.col(0), I.col(1) #basis vectors in x and y\n",
    "\n",
    "t_X = ρ*g*(z - h/2)*i_hat #this traction BC holds for both biaxial and uniaxial extension\n",
    "t_Y = ρ*g*(z - h/2)*j_hat if biaxial_spread else ρ*g*(z - h)*j_hat\n",
    "t_negY = 0*-j_hat if biaxial_spread else ρ*g*(z - h)*-j_hat #i.e., set to zero if biaxial"
   ]
  },
  {
   "cell_type": "markdown",
   "metadata": {},
   "source": [
    "## Stiffness matrix and force vector calculation\n",
    "### Stiffness matrix $\\mathbf{K}$\n",
    "We evaluate the stiffness matrix $\\mathbf{K}$ as the triple integral $\\iiint_{x,y,z = 0}^h\\mathbf{B}_S^T\\mu\\mathbf{B}_Rdxdydz$ (see Eq. 33). The symbolic solution will be calculated with SymPy's ```integrate``` function, and the numerical solution will be calculated using SciPy's ```tplquad``` function. \n",
    "\n",
    "Since ```sympy.integrate``` is somewhat slow (it takes > 20 seconds to compute $24^2$ triple integrals symbolically), we'll calculate only the entries of $\\mathbf{K}$ which are needed. Because of how $\\mathbf{K}$ will eventually be [partitioned](#Swapping-and-partitioning), any entry of $\\mathbf{K}$ corresponding to a Dirichlet boundary condition will not influence the solution step; these entries can be artificially set to zero (this cuts the calculation time down by about 75\\%, but it won't make a noticeable difference if solving numerically with ```scipi.integrate.tplquad```, which is already more efficient).  "
   ]
  },
  {
   "cell_type": "code",
   "execution_count": 11,
   "metadata": {},
   "outputs": [],
   "source": [
    "K = sp.zeros(dim*n_nodes, dim*n_nodes) #initialize K as a square matrix of zeros\n",
    "integrand_K = B_S.T*μ*B_R #we'll populate K by integrating select entries of this square matrix\n",
    "\n",
    "for i in range(K.rows): #for each row:\n",
    "    for j in range(K.cols): #and each column:\n",
    "        if DBCs[i] != 0 and DBCs[j] != 0: #if NEITHER the row nor the column correspond to a Dirichlet BC:\n",
    "            integrand = integrand_K[i, j] #we'll integrate this entry using one of the methods below.\n",
    "            if symbolic_solution: #if we want a symbolic solution, we'll integrate symbolically:\n",
    "                K[i, j] =  sp.integrate(integrand, (x, 0, h), (y, 0, h), (z, 0, h))\n",
    "            else: #otherwise, if we just want a numerical solution:\n",
    "                integrand = sp.lambdify((x, y, z), integrand) #interpret integrand as a function\n",
    "                K[i, j] = tplquad(integrand, 0, h, 0, h, 0, h, epsabs=1e-10*μ)[0] #and integrate numerically\n",
    "        #elif the entry DOES correspond to a Dirichlet BC:\n",
    "            #leave it as zero.\n",
    "\n",
    "#Note: setting tplquad argument espabs=1e-10*μ helps avoid a roundoff-error warning.\n",
    "#espabs sets the absolute error tolerance; default value is on the order of 1e-8.\n",
    "#Because μ is such a large number, roundoff errors are inflated to > unit scale, producing the warning.\n",
    "#However, these values are negligible compared to the entries of K, which are of scale μ. \n",
    "#Avoid the warning by increasing the error tolerance to 10 orders of magnitude smaller than μ. "
   ]
  },
  {
   "cell_type": "markdown",
   "metadata": {},
   "source": [
    "### Force vector $\\mathbf{f}$\n",
    "The force vector can be seperated into components $\\mathbf{f} = \\mathbf{f}_\\Gamma + \\mathbf{f}_\\Omega + \\mathbf{f}_\\Lambda$, each of which is calculated similarly to $\\mathbf{K}$ (see Eq. 16 for the general theory, and Eq. 34 for application to the biaxial extension problem)."
   ]
  },
  {
   "cell_type": "code",
   "execution_count": 12,
   "metadata": {},
   "outputs": [],
   "source": [
    "#initialize each component of f:\n",
    "f_Γx, f_Γy, f_Γnegy = sp.zeros(dim*n_nodes, 1), sp.zeros(dim*n_nodes, 1), sp.zeros(dim*n_nodes, 1)\n",
    "f_Ω, f_Λ = sp.zeros(dim*n_nodes, 1), sp.zeros(dim*n_nodes, 1)\n",
    "    \n",
    "integrand_Γx = N.T.subs(x, h)*t_X #integrand_Γx will be integrated in calculating f_Γx\n",
    "integrand_Γy = N.T.subs(y, h)*t_Y #for calculating f_Γy\n",
    "integrand_Γnegy = N.T.subs(y, 0)*t_negY #for calculating f_Γnegy\n",
    "integrand_Ω = N.T*b #for calculating f_Ω\n",
    "integrand_Λ = B_S.T*Λ #for calculating f_Λ\n",
    "\n",
    "for i in range(dim*n_nodes):\n",
    "    if symbolic_solution: #use sympy's symbolic integration function:\n",
    "        f_Γx[i] = sp.integrate(integrand_Γx[i], (y, 0, h), (z, 0, h)) #term 1 of Eq. 34\n",
    "        f_Γy[i] = sp.integrate(integrand_Γy[i], (x, 0, h), (z, 0, h)) #term 2 of Eq. 34\n",
    "        f_Γnegy[i] = sp.integrate(integrand_Γnegy[i], (x, 0, h), (z, 0, h)) #nonzero only if uniaxial\n",
    "        f_Ω[i] = sp.integrate(integrand_Ω[i], (x, 0, h), (y, 0, h), (z, 0, h)) #term 3\n",
    "        f_Λ[i] = sp.integrate(integrand_Λ[i], (x, 0, h), (y, 0, h), (z, 0, h)) #term 4\n",
    "    else: #use scipy's numeric integration functions:\n",
    "        f_Γx[i] = dblquad(sp.lambdify((y, z), integrand_Γx[i]), 0, h, 0, h)[0] #term 1 of Eq. 34\n",
    "        f_Γy[i] = dblquad(sp.lambdify((x, z), integrand_Γy[i]), 0, h, 0, h)[0] #term 2\n",
    "        f_Γnegy[i] = dblquad(sp.lambdify((x, z), integrand_Γnegy[i]), 0, h, 0, h)[0] #nonzero only if uniaxial\n",
    "        f_Ω[i] = tplquad(sp.lambdify((x, y, z), integrand_Ω[i]), 0, h, 0, h, 0, h)[0] #term 3\n",
    "        f_Λ[i] = tplquad(sp.lambdify((x, y, z), integrand_Λ[i]), 0, h, 0, h, 0, h)[0] #term 4\n",
    "        \n",
    "f_Γ = f_Γx + f_Γy + f_Γnegy #sum the components of f_Γ\n",
    "f = f_Γ + f_Ω + f_Λ #and obtain the total force vector "
   ]
  },
  {
   "cell_type": "markdown",
   "metadata": {},
   "source": [
    "## Swapping and partitioning\n",
    "In order to partition the finite element system of equations into the form shown in Equation 17, it is necessary to systematically sort stiffness matrix $\\mathbf{K}$, nodal velocity vector $\\mathbf{d}$, and force vector $\\mathbf{f}$. The goal is to rearrange $\\mathbf{d}$ so that the velocity components chosen as boundary conditions appear as the top entries, with the unknown velocity components at the bottom $-$ while simultaneously sorting $\\mathbf{K}$ and $\\mathbf{f}$ so as to preserve the system of linear equations represented by $\\mathbf{K}\\mathbf{d} = \\mathbf{f}$. \n",
    "\n",
    "Bookkeeping will be done via a list, ```order```, which will document the new placement of each component of $\\mathbf{d}$ after sorting.  "
   ]
  },
  {
   "cell_type": "code",
   "execution_count": 13,
   "metadata": {},
   "outputs": [
    {
     "name": "stdout",
     "output_type": "stream",
     "text": [
      "This list shows the new placement of the ith velocity component after sorting:\n"
     ]
    },
    {
     "data": {
      "text/latex": [
       "$\\displaystyle \\left[\\begin{array}{cccccccccccccccccccccccc}0 & 1 & 2 & 3 & 5 & 8 & 10 & 11 & 13 & 15 & 16 & 18 & 4 & 6 & 7 & 9 & 12 & 14 & 17 & 19 & 20 & 21 & 22 & 23\\end{array}\\right]$"
      ],
      "text/plain": [
       "Matrix([[0, 1, 2, 3, 5, 8, 10, 11, 13, 15, 16, 18, 4, 6, 7, 9, 12, 14, 17, 19, 20, 21, 22, 23]])"
      ]
     },
     "execution_count": 13,
     "metadata": {},
     "output_type": "execute_result"
    }
   ],
   "source": [
    "order = sorted(range(dim*n_nodes), key = lambda i : DBCs[i]) \n",
    "print('This list shows the new placement of the ith velocity component after sorting:')\n",
    "sp.Matrix(order).T"
   ]
  },
  {
   "cell_type": "markdown",
   "metadata": {},
   "source": [
    "For example, velocity component ```0``` (i.e., the first entry from the list ```nodal_vel```) has remained in the top position, while velocity component ```6``` has been moved further down. (Compare this new arrangement with the [Dirichlet boundary conditions](#Velocity-(Dirichlet)-boundary-conditions) chosen earlier.)\n",
    "\n",
    "Next, we'll use this bookkeeper list to help rearrange the elements of $\\mathbf{K}$ and $\\mathbf{f}$. "
   ]
  },
  {
   "cell_type": "code",
   "execution_count": 14,
   "metadata": {},
   "outputs": [],
   "source": [
    "#f_swapped is a copy of f with its rows rearranged\n",
    "f_swapped = sp.Matrix([f.row(order[i]) for i in range(f.rows)])\n",
    "\n",
    "#K_swapped is a copy of K with its rows AND columns rearranged\n",
    "K_swapped = sp.Matrix([K.row(order[i]) for i in range(K.rows)])\n",
    "K_swapped = sp.Matrix([[K_swapped.col(order[i]) for i in range(K_swapped.cols)]])\n",
    "\n",
    "#because of how we populated K, all nonzero entries now appear in the bottom right submatrix of K_swapped\n",
    "#uncomment the next line to see the full matrix K_swapped:\n",
    "#K_swapped"
   ]
  },
  {
   "cell_type": "markdown",
   "metadata": {},
   "source": [
    "With reference to Equation 17, we now compute $\\mathbf{K}_F$ and $\\mathbf{f}_F$:"
   ]
  },
  {
   "cell_type": "code",
   "execution_count": 15,
   "metadata": {},
   "outputs": [],
   "source": [
    "#to partition, first count the number of Dirichlet boundary conditions\n",
    "num_DBCs = DBCs.count(0) #this is the number of 0s in the list DBCs\n",
    "\n",
    "#Kf and ff are shown in Equation 17\n",
    "ff = f_swapped[num_DBCs:, :] #the bottom components of f_swapped\n",
    "Kf = K_swapped[num_DBCs:, num_DBCs:] #the bottom right components of K_swapped"
   ]
  },
  {
   "cell_type": "markdown",
   "metadata": {},
   "source": [
    "## Computing the linear rheology solution\n",
    "### Linear nodal solution\n",
    "The nodal solution is obtained via Equation 18, with the added simplification that $\\mathbf{d}_E$ is just the zero vector (because every velocity boundary condition is zero). The explicit solution for $\\mathbf{d}_F$ is $\\mathbf{d}_F = \\mathbf{K}_F^{-1}\\mathbf{f}_F$. However, in general, it is more efficient to solve systems of linear equations without performing matrix inversions. Instead, use SymPy's ```linsolve``` function (if solving symbolically) or NumPy's ```linalg.solve``` function (if solving numerically):"
   ]
  },
  {
   "cell_type": "code",
   "execution_count": 16,
   "metadata": {},
   "outputs": [],
   "source": [
    "if symbolic_solution: #if solving symbolically:\n",
    "    df = sp.linsolve([Kf, ff]) #solves the system Kf*X = ff symbolically for unknown X\n",
    "    df = list(list(df)[0]) #write the solution in list form\n",
    "else:\n",
    "    Kf, ff = np.array(Kf, 'float'), np.array(ff, 'float') #interpret Kf, ff as float-valued numpy arrays\n",
    "    df = np.linalg.solve(Kf, ff) #solves the same system numerically\n",
    "    df = list(df[..., 0]) #write the solution in list form"
   ]
  },
  {
   "cell_type": "markdown",
   "metadata": {},
   "source": [
    "The complete (but still [sorted](#Swapping-and-partitioning)) list of nodal velocities is now given as the vector $\\begin{bmatrix} \\mathbf{d}_E & \\mathbf{d}_F \\end{bmatrix}^T$:"
   ]
  },
  {
   "cell_type": "code",
   "execution_count": 17,
   "metadata": {},
   "outputs": [],
   "source": [
    "de = [0]*num_DBCs #the list of known (i.e., zero) velocities\n",
    "d_swapped = de + df #the complete list of nodal velocities, still sorted"
   ]
  },
  {
   "cell_type": "markdown",
   "metadata": {},
   "source": [
    "Put the elements of ```d_swapped``` back into their original places:"
   ]
  },
  {
   "cell_type": "code",
   "execution_count": 18,
   "metadata": {},
   "outputs": [
    {
     "name": "stdout",
     "output_type": "stream",
     "text": [
      "Nodal velocity solution (linear rheology)\n",
      "Components are in their original order, [ u1x u1y u1z u2x u2y u2z ... u7x u7y u7z u8x u8y u8z ]:\n"
     ]
    },
    {
     "data": {
      "text/latex": [
       "$\\displaystyle \\left[\\begin{array}{cccccccccccccccccccccccc}0 & 0 & 0 & 0 & \\frac{g h^{2} ρ}{12 μ} & 0 & \\frac{g h^{2} ρ}{12 μ} & \\frac{g h^{2} ρ}{12 μ} & 0 & \\frac{g h^{2} ρ}{12 μ} & 0 & 0 & \\frac{g h^{2} ρ}{12 μ} & 0 & - \\frac{g h^{2} ρ}{6 μ} & 0 & 0 & - \\frac{g h^{2} ρ}{6 μ} & 0 & \\frac{g h^{2} ρ}{12 μ} & - \\frac{g h^{2} ρ}{6 μ} & \\frac{g h^{2} ρ}{12 μ} & \\frac{g h^{2} ρ}{12 μ} & - \\frac{g h^{2} ρ}{6 μ}\\end{array}\\right]$"
      ],
      "text/plain": [
       "Matrix([[0, 0, 0, 0, g*h**2*ρ/(12*μ), 0, g*h**2*ρ/(12*μ), g*h**2*ρ/(12*μ), 0, g*h**2*ρ/(12*μ), 0, 0, g*h**2*ρ/(12*μ), 0, -g*h**2*ρ/(6*μ), 0, 0, -g*h**2*ρ/(6*μ), 0, g*h**2*ρ/(12*μ), -g*h**2*ρ/(6*μ), g*h**2*ρ/(12*μ), g*h**2*ρ/(12*μ), -g*h**2*ρ/(6*μ)]])"
      ]
     },
     "execution_count": 18,
     "metadata": {},
     "output_type": "execute_result"
    }
   ],
   "source": [
    "d = sp.Matrix([d_swapped[order.index(i)] for i in range(dim*n_nodes)])\n",
    "\n",
    "print('Nodal velocity solution (linear rheology)')\n",
    "print('Components are in their original order, [', *nodal_vel[:2*dim], '...', *nodal_vel[-2*dim:], ']:')\n",
    "d.T"
   ]
  },
  {
   "cell_type": "markdown",
   "metadata": {},
   "source": [
    "### Linear interpolated solution\n",
    "The nodal solution can be used to obtain the *continuous* velocity solution, $\\mathbf{u}$, by interpolation. This is done, by approximation, using the element shape function matrix, with $\\mathbf{u} \\approx \\mathbf{N}\\mathbf{d}$."
   ]
  },
  {
   "cell_type": "code",
   "execution_count": 19,
   "metadata": {},
   "outputs": [
    {
     "name": "stdout",
     "output_type": "stream",
     "text": [
      "Interpolated velocity solution (linear rheology) for [ ux uy uz ]^T:\n"
     ]
    },
    {
     "data": {
      "text/latex": [
       "$\\displaystyle \\left[\\begin{matrix}\\frac{g h x ρ}{12 μ}\\\\\\frac{g h y ρ}{12 μ}\\\\- \\frac{g h z ρ}{6 μ}\\end{matrix}\\right]$"
      ],
      "text/plain": [
       "Matrix([\n",
       "[g*h*x*ρ/(12*μ)],\n",
       "[g*h*y*ρ/(12*μ)],\n",
       "[-g*h*z*ρ/(6*μ)]])"
      ]
     },
     "execution_count": 19,
     "metadata": {},
     "output_type": "execute_result"
    }
   ],
   "source": [
    "u = sp.simplify(N*d) #interpolate the nodal solution and simplify\n",
    "\n",
    "if not symbolic_solution: #if solving numerically, eliminate rounding-error-sized coefficients < 1e-15:\n",
    "    u = u.xreplace({n : round(n, 15) for n in u.atoms(sp.Number)})\n",
    "\n",
    "print('Interpolated velocity solution (linear rheology) for [', *vel_field, ']^T:')\n",
    "u #compare with the biaxial extension solution of Equation 38"
   ]
  },
  {
   "cell_type": "markdown",
   "metadata": {},
   "source": [
    "## Postprocessing\n",
    "The next goal will be to compute the [nonlinear rheology solution](#Nonlinear-rheology-solution). However, before this can be done, it is necessary to evaluate the stress field and update the effective viscosity. \n",
    "\n",
    "Our [definition](#Symmetric-and-resistive-gradient-operators) of the operator $\\boldsymbol{\\nabla}_R$ was prompted by the observation that $\\mathbf{R}:= \\mu\\boldsymbol{\\nabla}_R\\mathbf{u}$ represents a list of the resistive stresses. Resistive stresses, in turn, can be used to calculate the deviatoric stresses via Equation 20; once deviatoric stresses are known, the effective stress is obtained via Equation 22, and, subsequently, the effective viscosity can be updated via Equation 21. "
   ]
  },
  {
   "cell_type": "code",
   "execution_count": 20,
   "metadata": {},
   "outputs": [
    {
     "name": "stdout",
     "output_type": "stream",
     "text": [
      "For example, the longitudinal deviatoric tension, τ_xx, is\n"
     ]
    },
    {
     "data": {
      "text/latex": [
       "$\\displaystyle \\frac{g h ρ}{6}$"
      ],
      "text/plain": [
       "g*h*ρ/6"
      ]
     },
     "execution_count": 20,
     "metadata": {},
     "output_type": "execute_result"
    }
   ],
   "source": [
    "#calculate the resistive stress vector:\n",
    "R = μ*nabla_R(u) #[R_xx, R_yy, (R_zz), R_xy, R_xz, R_yz]^T\n",
    "\n",
    "#and the associated deviatoric stresses (Eq. 20)\n",
    "τ = sp.zeros(R.rows, 1)\n",
    "τ[0] = sp.Rational(2,3)*R[0] - sp.Rational(1,3)*R[1] #τ_xx = 2/3*R_xx - 1/3*R_yy\n",
    "τ[1] = sp.Rational(2,3)*R[1] - sp.Rational(1,3)*R[0] #τ_yy = 2/3*R_yy - 1/3*R_xx\n",
    "τ[-3], τ[-2], τ[-1] = R[-3], R[-2], R[-1] #τ_xy, τ_xz, τ_yz = R_xy, R_xz, R_yz\n",
    "if hydrostatic_approx: #include τ_zz, which would be omitted in BP:\n",
    "    τ[2] = R[2] - sp.Rational(1,3)*(R[0] + R[1]) #τ_zz = R_zz - 1/3(R_xx + R_yy)\n",
    "\n",
    "#calculate the effective stress τ_E (Eq. 22)\n",
    "expr = sum([entry**2 for entry in τ])\n",
    "if not hydrostatic_approx: #if solving BP:\n",
    "    τ_zz = -τ[0] - τ[1] #recover τ_zz by incompressibility\n",
    "    expr += τ_zz**2 #and include this value in computing τ_E:\n",
    "τ_E = sp.sqrt(sp.Rational(1,2)*expr)\n",
    "\n",
    "#update the effective viscosity (Eq. 21)\n",
    "μ_2 = 1/(2*A*τ_E**(n-1))\n",
    "\n",
    "print('For example, the longitudinal deviatoric tension, τ_xx, is')\n",
    "τ[0]"
   ]
  },
  {
   "cell_type": "markdown",
   "metadata": {},
   "source": [
    "## Nonlinear rheology solution\n",
    "In general, to compute the nonlinear rheology solution, it would be necessary to run the whole scrip again with ```μ_2``` in place of ```μ```. But in this case, ```μ_2``` is just a function of $\\rho$, $g$, $h$, $A$, and $n$, all of which were assumed constant:"
   ]
  },
  {
   "cell_type": "code",
   "execution_count": 21,
   "metadata": {},
   "outputs": [
    {
     "name": "stdout",
     "output_type": "stream",
     "text": [
      "Updated effective viscosity:\n"
     ]
    },
    {
     "data": {
      "text/latex": [
       "$\\displaystyle \\frac{\\left(\\frac{\\sqrt{3} g h ρ}{6}\\right)^{1 - n}}{2 A}$"
      ],
      "text/plain": [
       "(sqrt(3)*g*h*ρ/6)**(1 - n)/(2*A)"
      ]
     },
     "execution_count": 21,
     "metadata": {},
     "output_type": "execute_result"
    }
   ],
   "source": [
    "print('Updated effective viscosity:')\n",
    "μ_2 #compare with the biaxial extension value given in Eq. 40"
   ]
  },
  {
   "cell_type": "markdown",
   "metadata": {},
   "source": [
    "Therefore, ```μ_2``` is a constant, like ```μ```, and a second iteration would just return the same solution with ```μ_2``` in place of ```μ```. In this case, we may as well update the solution manually:\n",
    "### Nonlinear nodal solution"
   ]
  },
  {
   "cell_type": "code",
   "execution_count": 22,
   "metadata": {},
   "outputs": [
    {
     "name": "stdout",
     "output_type": "stream",
     "text": [
      "Nodal velocity solution (nonlinear rheology)\n",
      "Components are in their original order, [ u1x u1y u1z u2x u2y u2z ... u7x u7y u7z u8x u8y u8z ]:\n"
     ]
    },
    {
     "data": {
      "text/latex": [
       "$\\displaystyle \\left[\\begin{array}{cccccccccccccccccccccccc}0 & 0 & 0 & 0 & 6^{- n} A g h^{2} ρ \\left(\\sqrt{3} g h ρ\\right)^{n - 1} & 0 & 6^{- n} A g h^{2} ρ \\left(\\sqrt{3} g h ρ\\right)^{n - 1} & 6^{- n} A g h^{2} ρ \\left(\\sqrt{3} g h ρ\\right)^{n - 1} & 0 & 6^{- n} A g h^{2} ρ \\left(\\sqrt{3} g h ρ\\right)^{n - 1} & 0 & 0 & 6^{- n} A g h^{2} ρ \\left(\\sqrt{3} g h ρ\\right)^{n - 1} & 0 & - 2 \\cdot 6^{- n} A g h^{2} ρ \\left(\\sqrt{3} g h ρ\\right)^{n - 1} & 0 & 0 & - 2 \\cdot 6^{- n} A g h^{2} ρ \\left(\\sqrt{3} g h ρ\\right)^{n - 1} & 0 & 6^{- n} A g h^{2} ρ \\left(\\sqrt{3} g h ρ\\right)^{n - 1} & - 2 \\cdot 6^{- n} A g h^{2} ρ \\left(\\sqrt{3} g h ρ\\right)^{n - 1} & 6^{- n} A g h^{2} ρ \\left(\\sqrt{3} g h ρ\\right)^{n - 1} & 6^{- n} A g h^{2} ρ \\left(\\sqrt{3} g h ρ\\right)^{n - 1} & - 2 \\cdot 6^{- n} A g h^{2} ρ \\left(\\sqrt{3} g h ρ\\right)^{n - 1}\\end{array}\\right]$"
      ],
      "text/plain": [
       "Matrix([[0, 0, 0, 0, 6**(-n)*A*g*h**2*ρ*(sqrt(3)*g*h*ρ)**(n - 1), 0, 6**(-n)*A*g*h**2*ρ*(sqrt(3)*g*h*ρ)**(n - 1), 6**(-n)*A*g*h**2*ρ*(sqrt(3)*g*h*ρ)**(n - 1), 0, 6**(-n)*A*g*h**2*ρ*(sqrt(3)*g*h*ρ)**(n - 1), 0, 0, 6**(-n)*A*g*h**2*ρ*(sqrt(3)*g*h*ρ)**(n - 1), 0, -2*6**(-n)*A*g*h**2*ρ*(sqrt(3)*g*h*ρ)**(n - 1), 0, 0, -2*6**(-n)*A*g*h**2*ρ*(sqrt(3)*g*h*ρ)**(n - 1), 0, 6**(-n)*A*g*h**2*ρ*(sqrt(3)*g*h*ρ)**(n - 1), -2*6**(-n)*A*g*h**2*ρ*(sqrt(3)*g*h*ρ)**(n - 1), 6**(-n)*A*g*h**2*ρ*(sqrt(3)*g*h*ρ)**(n - 1), 6**(-n)*A*g*h**2*ρ*(sqrt(3)*g*h*ρ)**(n - 1), -2*6**(-n)*A*g*h**2*ρ*(sqrt(3)*g*h*ρ)**(n - 1)]])"
      ]
     },
     "execution_count": 22,
     "metadata": {},
     "output_type": "execute_result"
    }
   ],
   "source": [
    "d_2 = sp.simplify(d*μ/μ_2) #cancel out μ and replace with μ_2 in the denominator\n",
    "\n",
    "print('Nodal velocity solution (nonlinear rheology)')\n",
    "print('Components are in their original order, [', *nodal_vel[:2*dim], '...', *nodal_vel[-2*dim:], ']:')\n",
    "d_2.T"
   ]
  },
  {
   "cell_type": "markdown",
   "metadata": {},
   "source": [
    "### Nonlinear interpolated solution"
   ]
  },
  {
   "cell_type": "code",
   "execution_count": 23,
   "metadata": {},
   "outputs": [
    {
     "name": "stdout",
     "output_type": "stream",
     "text": [
      "Interpolated velocity solution (nonlinear rheology) for [ ux uy uz ]^T:\n"
     ]
    },
    {
     "data": {
      "text/latex": [
       "$\\displaystyle \\left[\\begin{matrix}3^{\\frac{n}{2} - \\frac{1}{2}} A x \\left(\\frac{g h ρ}{6}\\right)^{n}\\\\3^{\\frac{n}{2} - \\frac{1}{2}} A y \\left(\\frac{g h ρ}{6}\\right)^{n}\\\\- 2 \\cdot 3^{\\frac{n}{2} - \\frac{1}{2}} A z \\left(\\frac{g h ρ}{6}\\right)^{n}\\end{matrix}\\right]$"
      ],
      "text/plain": [
       "Matrix([\n",
       "[   3**(n/2 - 1/2)*A*x*(g*h*ρ/6)**n],\n",
       "[   3**(n/2 - 1/2)*A*y*(g*h*ρ/6)**n],\n",
       "[-2*3**(n/2 - 1/2)*A*z*(g*h*ρ/6)**n]])"
      ]
     },
     "execution_count": 23,
     "metadata": {},
     "output_type": "execute_result"
    }
   ],
   "source": [
    "u_2 = sp.simplify(N*d_2) #interpolate via u_2 = N*d_2\n",
    "\n",
    "if not symbolic_solution: #if solving numerically, eliminate rounding-error-sized coefficients < 1e-15:\n",
    "    u_2 = u_2.xreplace({n : round(n, 15) for n in u_2.atoms(sp.Number)})\n",
    "\n",
    "print('Interpolated velocity solution (nonlinear rheology) for [', *vel_field, ']^T:')\n",
    "u_2 #compare with the biaxial extension solution of Equation 41"
   ]
  },
  {
   "cell_type": "code",
   "execution_count": 24,
   "metadata": {},
   "outputs": [],
   "source": [
    "#print('runtime:', time.time() - start, 'seconds')"
   ]
  }
 ],
 "metadata": {
  "kernelspec": {
   "display_name": "Python 3",
   "language": "python",
   "name": "python3"
  },
  "language_info": {
   "codemirror_mode": {
    "name": "ipython",
    "version": 3
   },
   "file_extension": ".py",
   "mimetype": "text/x-python",
   "name": "python",
   "nbconvert_exporter": "python",
   "pygments_lexer": "ipython3",
   "version": "3.6.7"
  }
 },
 "nbformat": 4,
 "nbformat_minor": 5
}
