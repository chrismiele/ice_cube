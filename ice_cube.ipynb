{
 "cells": [
  {
   "cell_type": "markdown",
   "id": "54b2f450-b903-4708-9502-afabe72470bc",
   "metadata": {},
   "source": [
    "# Solving the FEM equations for an extending ice cube with SymPy"
   ]
  },
  {
   "cell_type": "markdown",
   "id": "3867bf5d-e1e6-456b-84f1-6d8107594587",
   "metadata": {
    "tags": []
   },
   "source": [
    "## Intro, imports and images\n",
    "This script solves the system of PDEs describing a cube of ice, of side length $h$, spreading horizontally and compressing vertically under its own weight. The setup is depicted in Figure 1 of the main text, which is reproduced [below](#Figure-1). This script uses the symbolic math library ```SymPy``` (v. 1.11.1) to solve the FEM equations symbolically, and it provides the option of solving numerically with ```SciPy```. The workflow of the code mirrors the workflow beginning on page 15 of the paper and can be used to verify the derivations presented in that section."
   ]
  },
  {
   "cell_type": "code",
   "execution_count": 1,
   "id": "727d7301-5ad5-4987-ac35-b4f1068823ad",
   "metadata": {},
   "outputs": [],
   "source": [
    "import sympy as sp\n",
    "from scipy.integrate import dblquad, tplquad #double and triple integration"
   ]
  },
  {
   "cell_type": "markdown",
   "id": "1a4b1976-ec47-442b-9eb3-a93035e33e0f",
   "metadata": {},
   "source": [
    "### Figure 1\n",
    "\n",
    "The domain over which we implement our finite element system of equations. The shaded area represents the quadrant of the ice block within which we obtain our 3D velocity field. The block is meshed as indicated by the node numbers shown, with node 1 at the origin, node 2 at $(0, h, 0)$, and so on. The bottom surface ($z = 0$) rests on a hard barrier, while the surfaces at $x = h$, $y = h$, and $z = h$ are unobstructed. "
   ]
  },
  {
   "cell_type": "markdown",
   "id": "8db728fc-65c2-4d8a-8bba-f46850cf919d",
   "metadata": {},
   "source": [
    "<img src='figures/cube.PNG' width='500'>"
   ]
  },
  {
   "cell_type": "markdown",
   "id": "c583d49b-4ecb-4d01-b047-5bac06d5ff54",
   "metadata": {},
   "source": [
    "This code will be slightly more flexible than the example presented in the main text. The default setting will be the situation of biaxial extension (i.e., extending both longitudinally and laterally), as in the manuscript. However, this script will also provide the option of solving for uniaxial extension (i.e., extending only longitudinally, between slippery lateral barriers). Setting ```uniaxial_spread``` to ```False``` in the code block below will solve the biaxial extension problem posited in the manuscript. Setting ```uniaxial_spread``` to ```True``` will solve the uniaxial extension problem.\n",
    "\n",
    "The script can be run to provide symbolic solutions (in which all variables are left general) by setting ```symbolic_solution``` to ```True```. Otherwise, if set to ```False```, the equations are solved numerically, given the values specified below. "
   ]
  },
  {
   "cell_type": "code",
   "execution_count": 2,
   "id": "dab08ece-3cb2-4dc2-bb67-7ebf47019e0b",
   "metadata": {},
   "outputs": [],
   "source": [
    "uniaxial_spread = False\n",
    "symbolic_solution = True"
   ]
  },
  {
   "cell_type": "markdown",
   "id": "52e01153-64d9-41e6-a0ce-19a83a9ee573",
   "metadata": {},
   "source": [
    "## Spatial variables, dimensions, and physical parameters"
   ]
  },
  {
   "cell_type": "markdown",
   "id": "a991ee5d-7512-43d5-a4b0-cd28fbd76a7c",
   "metadata": {},
   "source": [
    "Define the spatial coordinates $x$, $y$, and $z$, alongside the side length $h$, viscosity $\\mu$, density $\\rho$, gravitational constant $g$, rate factor $A$, and flow exponent $n$. Units are meters, seconds, kilograms, Pascals, etc. \n",
    "\n",
    "As well, define the lithostatic vector $\\boldsymbol{\\Lambda}$ and body force vector $\\mathbf{b}$, which are given implicitly in Equation 8 as $\\boldsymbol{\\Lambda} := \\rho g(h-z)\\begin{bmatrix}1 & 1 & 1 & 0 & 0 & 0\\end{bmatrix}^T$ and $\\mathbf{b} := -\\rho g\\begin{bmatrix}0 & 0 & 1\\end{bmatrix}^T$. "
   ]
  },
  {
   "cell_type": "code",
   "execution_count": 3,
   "id": "7c46217b-2c5b-460e-93b7-8415e0d26e68",
   "metadata": {},
   "outputs": [],
   "source": [
    "x, y, z = sp.symbols('x, y, z', real=True)\n",
    "n_nodes = 8 #one node at each corner of the cube \n",
    "\n",
    "h = 100\n",
    "μ, ρ, g, A, n = 4e13, 917, 9.8, 1e-23, 3\n",
    "\n",
    "if symbolic_solution: #if we want a symbolic solution:\n",
    "    h = sp.symbols('h', positive=True, constant=True) #keep these symbols general\n",
    "    μ, ρ, g, A, n = sp.symbols('μ, ρ, g, A, n', positive=True, constant=True)\n",
    "    \n",
    "Λ = ρ*g*(h-z)*sp.Matrix((1, 1, 1, 0, 0, 0))\n",
    "b = -ρ*g*sp.Matrix((0, 0, 1))"
   ]
  },
  {
   "cell_type": "markdown",
   "id": "9f635a7e-2758-409a-8b23-75b710917f38",
   "metadata": {
    "tags": []
   },
   "source": [
    "## Symmetric and resistive gradient operators "
   ]
  },
  {
   "cell_type": "markdown",
   "id": "aa0744aa-f763-4346-be52-89cdcefbd5f9",
   "metadata": {},
   "source": [
    "The symmetric gradient operator and resistive gradient operators are defined\n",
    "\n",
    "$\\boldsymbol{\\nabla}_S := \\begin{bmatrix}\\frac{\\partial}{\\partial x} & 0 & 0\\\\\n",
    "0 & \\frac{\\partial}{\\partial y} & 0\\\\\n",
    "0 & 0 & \\frac{\\partial}{\\partial z}\\\\\n",
    "\\frac{\\partial}{\\partial y} & \\frac{\\partial}{\\partial x} & 0\\\\\n",
    "\\frac{\\partial}{\\partial z} & 0 & \\frac{\\partial}{\\partial x}\\\\\n",
    "0 & \\frac{\\partial}{\\partial z} & \\frac{\\partial}{\\partial y}\n",
    "\\end{bmatrix} \\hspace{1cm}$ and $\\hspace {1cm}\\boldsymbol{\\nabla}_R := \\begin{bmatrix}4\\frac{\\partial}{\\partial x} & 2\\frac{\\partial}{\\partial y} & 0\\\\\n",
    "2\\frac{\\partial}{\\partial x} & 4\\frac{\\partial}{\\partial y} & 0\\\\\n",
    "2\\frac{\\partial}{\\partial x} & 2\\frac{\\partial}{\\partial y} & 2\\frac{\\partial}{\\partial z}\\\\\n",
    "\\frac{\\partial}{\\partial y} & \\frac{\\partial}{\\partial x} & 0\\\\\n",
    "\\frac{\\partial}{\\partial z} & 0 & \\frac{\\partial}{\\partial x}\\\\\n",
    "0 & \\frac{\\partial}{\\partial z} & \\frac{\\partial}{\\partial y}\n",
    "\\end{bmatrix}$\n",
    "\n",
    "We include these as functions, ```nabla_S``` and ```nabla_R```. For example, the function ```nabla_S``` will take a matrix ```M``` as input and return the matrix product $\\boldsymbol{\\nabla}_S\\mathbf{M}$. "
   ]
  },
  {
   "cell_type": "code",
   "execution_count": 4,
   "id": "00d13446-0e0b-4548-a718-abc4dcda3da6",
   "metadata": {},
   "outputs": [],
   "source": [
    "def nabla_S(M):\n",
    "    out = sp.zeros(6, M.cols) #initialize output\n",
    "    for i in range(M.cols):\n",
    "        out[0, i] = sp.diff(M[0, i], x) #∂/∂x of entry at (0, i)\n",
    "        out[1, i] = sp.diff(M[1, i], y) #∂/∂y of entry at (1, i)\n",
    "        out[2, i] = sp.diff(M[2, i], z) #etc.\n",
    "        out[3, i] = sp.diff(M[0, i], y) + sp.diff(M[1, i], x)\n",
    "        out[4, i] = sp.diff(M[0, i], z) + sp.diff(M[2, i], x)\n",
    "        out[5, i] = sp.diff(M[1, i], z) + sp.diff(M[2, i], y)\n",
    "    return out #return the dot product ∇_S*M\n",
    "\n",
    "def nabla_R(M):\n",
    "    out = sp.zeros(6, M.cols) #initialize output\n",
    "    for i in range(M.cols):\n",
    "        out[0, i] = 4*sp.diff(M[0, i], x) + 2*sp.diff(M[1, i], y) #4∂/∂x +2∂/∂y of entry at (0, i)\n",
    "        out[1, i] = 2*sp.diff(M[0, i], x) + 4*sp.diff(M[1, i], y) #etc.\n",
    "        out[2, i] = 2*sp.diff(M[0, i], x) + 2*sp.diff(M[1, i], y) + 2*sp.diff(M[2, i], z)\n",
    "        out[3, i] = sp.diff(M[0, i], y) + sp.diff(M[1, i], x)\n",
    "        out[4, i] = sp.diff(M[0, i], z) + sp.diff(M[2, i], x)\n",
    "        out[5, i] = sp.diff(M[1, i], z) + sp.diff(M[2, i], y)\n",
    "    return out #return the dot product ∇_R*M\n"
   ]
  },
  {
   "cell_type": "markdown",
   "id": "50b99922-0c06-4004-a57c-71a80e8418ef",
   "metadata": {},
   "source": [
    "## Shape functions and their gradients"
   ]
  },
  {
   "cell_type": "markdown",
   "id": "64b1ee52-7548-4c1a-bb66-b147f58f0411",
   "metadata": {},
   "source": [
    "The nodal shape functions $N_1$ through $N_8$ are defined such that $N_i$ evaluates to one at node $i$ and zero at every other node. It can be directly verified that the functions below satisfy this property for the setup shown in Figure 1. These functions are also given in Equation 26."
   ]
  },
  {
   "cell_type": "code",
   "execution_count": 5,
   "id": "e170d35f-e765-48c5-87b3-0c7ed7d81ee6",
   "metadata": {},
   "outputs": [
    {
     "name": "stdout",
     "output_type": "stream",
     "text": [
      "N2 evaluated at node 2: N2(0, h, 0) = 1\n",
      "N2 evaluated at node 5: N2(h, 0, h) = 0\n"
     ]
    }
   ],
   "source": [
    "N1 = (h-x)*(h-y)*(h-z)/h**3\n",
    "N2 = (h-x)*y*(h-z)/h**3\n",
    "N3 = x*y*(h-z)/h**3\n",
    "N4 = x*(h-y)*(h-z)/h**3\n",
    "N5 = x*(h-y)*z/h**3\n",
    "N6 = (h-x)*(h-y)*z/h**3\n",
    "N7 = (h-x)*y*z/h**3\n",
    "N8 = x*y*z/h**3\n",
    "\n",
    "#For example, node 2 is at (0, h, 0) and node 5 is at (h, 0, h)\n",
    "print('N2 evaluated at node 2:', 'N2(0, h, 0) =', N2.subs({x:0, y:h, z:0}))\n",
    "print('N2 evaluated at node 5:', 'N2(h, 0, h) =', N2.subs({x:h, y:0, z:h}))"
   ]
  },
  {
   "cell_type": "markdown",
   "id": "0ef86dab-da2b-441a-9ab7-87a6a5e66945",
   "metadata": {},
   "source": [
    "Next, it's useful to express these shape function in matrix form, defining \n",
    "\n",
    "$\\mathbf{N} = \\begin{bmatrix}N_1 & 0 & 0 & N_2 & 0 & 0 & ... & N_8 & 0 & 0\\\\\n",
    "0 & N_1 & 0 & 0 & N_2 & 0 & ... & 0 & N_8 & 0\\\\\n",
    "0 & 0 & N_1 & 0 & 0 & N_2 & ... & 0 & 0 & N_8\n",
    "\\end{bmatrix}$\n",
    "\n",
    "This is coded as ```mtx_N``` below. "
   ]
  },
  {
   "cell_type": "code",
   "execution_count": 6,
   "id": "5aab0ecc-51a2-4cbc-9d42-f80083951faf",
   "metadata": {},
   "outputs": [
    {
     "name": "stdout",
     "output_type": "stream",
     "text": [
      "Shape function in matrix form:\n"
     ]
    },
    {
     "data": {
      "text/latex": [
       "$\\displaystyle \\left[\\begin{array}{cccccccccccccccccccccccc}\\frac{\\left(h - x\\right) \\left(h - y\\right) \\left(h - z\\right)}{h^{3}} & 0 & 0 & \\frac{y \\left(h - x\\right) \\left(h - z\\right)}{h^{3}} & 0 & 0 & \\frac{x y \\left(h - z\\right)}{h^{3}} & 0 & 0 & \\frac{x \\left(h - y\\right) \\left(h - z\\right)}{h^{3}} & 0 & 0 & \\frac{x z \\left(h - y\\right)}{h^{3}} & 0 & 0 & \\frac{z \\left(h - x\\right) \\left(h - y\\right)}{h^{3}} & 0 & 0 & \\frac{y z \\left(h - x\\right)}{h^{3}} & 0 & 0 & \\frac{x y z}{h^{3}} & 0 & 0\\\\0 & \\frac{\\left(h - x\\right) \\left(h - y\\right) \\left(h - z\\right)}{h^{3}} & 0 & 0 & \\frac{y \\left(h - x\\right) \\left(h - z\\right)}{h^{3}} & 0 & 0 & \\frac{x y \\left(h - z\\right)}{h^{3}} & 0 & 0 & \\frac{x \\left(h - y\\right) \\left(h - z\\right)}{h^{3}} & 0 & 0 & \\frac{x z \\left(h - y\\right)}{h^{3}} & 0 & 0 & \\frac{z \\left(h - x\\right) \\left(h - y\\right)}{h^{3}} & 0 & 0 & \\frac{y z \\left(h - x\\right)}{h^{3}} & 0 & 0 & \\frac{x y z}{h^{3}} & 0\\\\0 & 0 & \\frac{\\left(h - x\\right) \\left(h - y\\right) \\left(h - z\\right)}{h^{3}} & 0 & 0 & \\frac{y \\left(h - x\\right) \\left(h - z\\right)}{h^{3}} & 0 & 0 & \\frac{x y \\left(h - z\\right)}{h^{3}} & 0 & 0 & \\frac{x \\left(h - y\\right) \\left(h - z\\right)}{h^{3}} & 0 & 0 & \\frac{x z \\left(h - y\\right)}{h^{3}} & 0 & 0 & \\frac{z \\left(h - x\\right) \\left(h - y\\right)}{h^{3}} & 0 & 0 & \\frac{y z \\left(h - x\\right)}{h^{3}} & 0 & 0 & \\frac{x y z}{h^{3}}\\end{array}\\right]$"
      ],
      "text/plain": [
       "Matrix([\n",
       "[(h - x)*(h - y)*(h - z)/h**3,                            0,                            0, y*(h - x)*(h - z)/h**3,                      0,                      0, x*y*(h - z)/h**3,                0,                0, x*(h - y)*(h - z)/h**3,                      0,                      0, x*z*(h - y)/h**3,                0,                0, z*(h - x)*(h - y)/h**3,                      0,                      0, y*z*(h - x)/h**3,                0,                0, x*y*z/h**3,          0,          0],\n",
       "[                           0, (h - x)*(h - y)*(h - z)/h**3,                            0,                      0, y*(h - x)*(h - z)/h**3,                      0,                0, x*y*(h - z)/h**3,                0,                      0, x*(h - y)*(h - z)/h**3,                      0,                0, x*z*(h - y)/h**3,                0,                      0, z*(h - x)*(h - y)/h**3,                      0,                0, y*z*(h - x)/h**3,                0,          0, x*y*z/h**3,          0],\n",
       "[                           0,                            0, (h - x)*(h - y)*(h - z)/h**3,                      0,                      0, y*(h - x)*(h - z)/h**3,                0,                0, x*y*(h - z)/h**3,                      0,                      0, x*(h - y)*(h - z)/h**3,                0,                0, x*z*(h - y)/h**3,                      0,                      0, z*(h - x)*(h - y)/h**3,                0,                0, y*z*(h - x)/h**3,          0,          0, x*y*z/h**3]])"
      ]
     },
     "execution_count": 6,
     "metadata": {},
     "output_type": "execute_result"
    }
   ],
   "source": [
    "#First, write the shape functions as an 8-by-1 vector\n",
    "vec_N = sp.Array((N1, N2, N3, N4, N5, N6, N7, N8))\n",
    "\n",
    "#Now construct the shape function as a 3-by-24 matrix\n",
    "I = sp.eye(3) #3x3 identity matrix\n",
    "mtx_N = sp.zeros(3, 3*n_nodes) #initialize the matrix N\n",
    "for i in range(n_nodes):\n",
    "    mtx_N[0:3, 3*i:3*i+3] = I*vec_N[i] #each ith 3x3 submatrix gets assigned I*N_i\n",
    "\n",
    "#Output a visual representation of mtx_N:\n",
    "print('Shape function in matrix form:')\n",
    "mtx_N"
   ]
  },
  {
   "cell_type": "markdown",
   "id": "5556eb95-fb5c-499c-b076-a885b8dea2fe",
   "metadata": {},
   "source": [
    "The gradients of the shape function are $\\mathbf{B}_S = \\boldsymbol{\\nabla}_S\\mathbf{N}$ and $\\mathbf{B}_R = \\boldsymbol{\\nabla}_R\\mathbf{N}$, which are evaluated as"
   ]
  },
  {
   "cell_type": "code",
   "execution_count": 7,
   "id": "8df232c9-739e-4919-95cb-a71af05f05b4",
   "metadata": {},
   "outputs": [],
   "source": [
    "B_S = nabla_S(mtx_N)\n",
    "B_R = nabla_R(mtx_N)"
   ]
  },
  {
   "cell_type": "markdown",
   "id": "230ffbda-bbc6-4725-a788-7d142354ca0b",
   "metadata": {},
   "source": [
    "## Boundary conditions"
   ]
  },
  {
   "cell_type": "markdown",
   "id": "914eec0f-68ca-454a-96b3-c8cc0e447125",
   "metadata": {},
   "source": [
    "### Velocity (dirichlet) boundary conditions"
   ]
  },
  {
   "cell_type": "markdown",
   "id": "231d765c-4acd-4ce8-b4ab-03e8d1f6ffeb",
   "metadata": {},
   "source": [
    "The vector of nodal velocities, $\\mathbf{d}$, is given by \n",
    "\n",
    "$\\mathbf{d} = [u_{1x}, u_{1y}, u_{1z}, u_{2x}, u_{2y}, u_{2z}, ..., u_{8x}, u_{8y}, u_{8z}]^T$.\n",
    "\n",
    "Many of these components are zero by nature of the setup (see the paragraph following Equation 29). For example, $u_{1z} = u_{2z} = u_{3z} = u_{4z} = 0$ because the bottom of the cube rests on a hard barrier. In the biaxial spreading case, by symmetry, $u_x = 0$ on the $y$ axis and $u_y = 0$ on the $y$ axis, and so $u_{1x} = u_{2x} = u_{6x} = u_{7x} = u_{1y} = u_{4y} = u_{5y} = u_{6y} = 0$. \n",
    "\n",
    "To code this information, we define a list, ```BCs```, having the same length as $\\mathbf{d}$ but consisting only of 1s and 0s. ```BCs``` will have 0s wherever velocity is prescribed to be zero, and 1s wherever velocity is unknown. In the biaxial spreading case, we have:"
   ]
  },
  {
   "cell_type": "code",
   "execution_count": 8,
   "id": "6244ac4c-648c-427f-9f46-86dd19e1457e",
   "metadata": {},
   "outputs": [],
   "source": [
    "BCs = [0, 0, 0, #u_1x, u_1y, u_1z = 0\n",
    "     0, 1, 0, #u_2x, u_2z = 0 while u_2y is unknown\n",
    "     1, 1, 0, #u_3x, u_3y are unknown while u_3z is zero\n",
    "     1, 0, 0, #etc.\n",
    "     1, 0, 1, \n",
    "     0, 0, 1, \n",
    "     0, 1, 1,\n",
    "     1, 1, 1]"
   ]
  },
  {
   "cell_type": "markdown",
   "id": "0c799ba2-b116-47b2-9c82-37ac2a405b1f",
   "metadata": {},
   "source": [
    "If we are solving the uniaxial extension problem, then we should additionally set every $u_y$ component to zero:"
   ]
  },
  {
   "cell_type": "code",
   "execution_count": 9,
   "id": "88f5c928-7d2d-4663-a53a-6ad759cdd3e2",
   "metadata": {},
   "outputs": [],
   "source": [
    "if uniaxial_spread:\n",
    "    for i in range(len(BCs)):\n",
    "        if i%3 == 1: #for u_1y, u_2y, u_3y, etc.:\n",
    "            BCs[i] = 0 #set this component to zero"
   ]
  },
  {
   "cell_type": "markdown",
   "id": "0f320e50-4357-442f-97df-df2693e75239",
   "metadata": {},
   "source": [
    "### Traction (Neumann) boundary conditions"
   ]
  },
  {
   "cell_type": "markdown",
   "id": "bd7b1164-9463-4b11-bafd-27afa5b4a6e7",
   "metadata": {},
   "source": [
    "In the biaxial spreading case discussed in the manuscript, the positive $x$ and $y$ faces are associated with depth-averaged ice cliff boundary conditions:\n",
    "\n",
    "$\\mathbf{t}_X = \\rho g\\left(z - \\frac{h}{2}\\right)\\hat{\\mathbf{i}}\\hspace{1cm}$ and $\\hspace{1cm} \\mathbf{t}_Y = \\rho g\\left(z - \\frac{h}{2}\\right)\\hat{\\mathbf{j}}$\n",
    "\n",
    "For consistency with the uniaxial case, we can also include a placeholder boundary condition at the negative $Y$ face, setting $\\mathbf{t}_{negY} = \\mathbf{0}$."
   ]
  },
  {
   "cell_type": "code",
   "execution_count": 10,
   "id": "375350e2-2d85-415a-b137-2ddccc1de13b",
   "metadata": {},
   "outputs": [],
   "source": [
    "t_X = ρ*g*(z - h/2)*sp.Matrix((1, 0, 0)) #t_X = σ_xx|_{x=h}*i\n",
    "t_Y = ρ*g*(z - h/2)*sp.Matrix((0, 1, 0)) #t_Y = σ_yy|_{y=h}*j\n",
    "t_negY = sp.Matrix((0, 0, 0)) #placeholder value #t_negY = [0, 0, 0]"
   ]
  },
  {
   "cell_type": "markdown",
   "id": "47669651-3708-4fb9-ad92-2a0671402c4d",
   "metadata": {},
   "source": [
    "In the uniaxial case, the positive $x$ boundary remains a free ice cliff, but the positive and negative $y$ boundaries must have zero lateral extension; that is, $\\tau_{yy}|_{y = h} = \\tau_{yy}|_{y = 0} = 0$. This is the case when the net stress, $\\sigma_{yy}$, is simply equal to the overburden pressure at these locations. Therefore, in a uniaxial extending regime, $\\mathbf{t}_{Y} = \\rho g(z-h)\\hat{\\mathbf{j}}$ and $\\mathbf{t}_{negY} = \\rho g(z-h)\\left(-\\hat{\\mathbf{j}}\\right)$."
   ]
  },
  {
   "cell_type": "code",
   "execution_count": 11,
   "id": "e9b23e56-355a-45b2-94b8-5bcc7913f5dd",
   "metadata": {},
   "outputs": [],
   "source": [
    "if uniaxial_spread:\n",
    "    t_Y = ρ*g*(z - h)*sp.Matrix((0, 1, 0)) #t_Y = σ_yy|_{y=h}*j\n",
    "    t_negY = ρ*g*(z - h)*sp.Matrix((0, -1, 0)) #t_negY = σ_yy|_{y=0}*-j"
   ]
  },
  {
   "cell_type": "markdown",
   "id": "b15b6b88-6a14-4cfd-ad0b-29bb02c784f6",
   "metadata": {},
   "source": [
    "## Stiffness matrix and force vector"
   ]
  },
  {
   "cell_type": "markdown",
   "id": "8d89f0d9-02e6-47f7-b454-791d1645faf8",
   "metadata": {},
   "source": [
    "We evaluate the stiffness matrix $\\mathbf{K}$ as the integral $\\iiint_{x,y,z = 0}^h\\mathbf{B}_S^T\\mu\\mathbf{B}_Rdxdydz$ (see Eq. 33). The symbolic solution will be calculated with SymPy's ```integrate``` function, and the numerical solution will be calculated using SciPy's ```tplquad``` function. \n",
    "\n",
    "Because ```sympy.integrate``` is somewhat slow (it takes about 20 seconds to compute all of $\\mathbf{K}$'s $24^2$ triple integrals symbolically), we'll calculate only the entries of $\\mathbf{K}$ which are needed. Any entry of $\\mathbf{K}$ corresponding to a dirichlet boundary condition will not influence the solution step, so we'll leave these out (this cuts the symbolic calculation down to about 4 seconds, but it won't make a noticeable difference if solving numerically with ```scipi.integrate.tplquad```).  "
   ]
  },
  {
   "cell_type": "code",
   "execution_count": 12,
   "id": "e5d26017-c110-45a6-9b12-50d41edea3ea",
   "metadata": {},
   "outputs": [],
   "source": [
    "K = sp.zeros(3*n_nodes, 3*n_nodes) #initialize K as a 24x24 matrix of zeros\n",
    "integrand_K = B_S.T*μ*B_R #we'll populate K by integrating select entries of this 24x24 matrix\n",
    "\n",
    "for i in range(K.rows): #for each row:\n",
    "    for j in range(K.cols): #and each column:\n",
    "        if BCs[i] != 0 and BCs[j] != 0: #if NEITHER the row nor the column correspond to a velocity BC:\n",
    "            integrand = integrand_K[i, j] #we'll integrate this entry using one of the methods below.\n",
    "            if symbolic_solution: #if we want a symbolic solution, we'll integrate symbolically:\n",
    "                K[i, j] =  sp.integrate(sp.integrate(sp.integrate(integrand, (x, 0, h)), (y, 0, h)), (z, 0, h))\n",
    "            else: #otherwise, if we just want a numerical solution:\n",
    "                integrand = sp.lambdify((x, y, z), integrand) #interpret integrand as a function\n",
    "                K[i, j] = tplquad(integrand, 0, h, 0, h, 0, h)[0] #and integrate numerically with scipy\n",
    "        #elif the entry DOES correspond to a velocity BC:\n",
    "            #leave it as zero."
   ]
  },
  {
   "cell_type": "markdown",
   "id": "a4084a4a-31e5-4584-b0e7-0506d3c5707d",
   "metadata": {},
   "source": [
    "The force vector can be seperated into components $\\mathbf{f} = \\mathbf{f}_\\Gamma + \\mathbf{f}_\\Omega + \\mathbf{f}_\\Lambda$, each of which is calculated similarly to $\\mathbf{K}$ (see Eq. 16 for the general theory, and Eq. 34 for application to the biaxial extension problem)."
   ]
  },
  {
   "cell_type": "code",
   "execution_count": 13,
   "id": "25e5d44c-f515-4ef6-be34-b0cf9e023a99",
   "metadata": {},
   "outputs": [],
   "source": [
    "f_Γx, f_Γy, f_Γnegy = sp.zeros(3*n_nodes, 1), sp.zeros(3*n_nodes, 1), sp.zeros(3*n_nodes, 1)\n",
    "f_Ω, f_Λ = sp.zeros(3*n_nodes, 1), sp.zeros(3*n_nodes, 1)\n",
    "    \n",
    "integrand_Γx = mtx_N.T.subs(x, h)*t_X #integrand_Γx will be integrated in calculating f_Γx\n",
    "integrand_Γy = mtx_N.T.subs(y, h)*t_Y #for calculating f_Γy\n",
    "integrand_Γnegy = mtx_N.T.subs(y, 0)*t_negY #for calculating f_Γnegy\n",
    "integrand_Ω = mtx_N.T*b #for calculating f_Ω\n",
    "integrand_Λ = B_S.T*Λ #for calculating f_Λ\n",
    "\n",
    "for i in range(3*n_nodes):\n",
    "    if symbolic_solution:\n",
    "        f_Γx[i] = sp.integrate(sp.integrate(integrand_Γx[i], (y, 0, h)), (z, 0, h)) #term 1 of Eq. 34\n",
    "        f_Γy[i] = sp.integrate(sp.integrate(integrand_Γy[i], (x, 0, h)), (z, 0, h)) #term 2 of Eq. 34\n",
    "        f_Γnegy[i] = sp.integrate(sp.integrate(integrand_Γnegy[i], (x, 0, h)), (z, 0, h)) #nonzero only if uniaxial\n",
    "        f_Ω[i] = sp.integrate(sp.integrate(sp.integrate(integrand_Ω[i], (x, 0, h)), (y, 0, h)), (z, 0, h)) #term 3\n",
    "        f_Λ[i] = sp.integrate(sp.integrate(sp.integrate(integrand_Λ[i], (x, 0, h)), (y, 0, h)), (z, 0, h)) #term 4\n",
    "    else:        \n",
    "        f_Γx[i] = dblquad(sp.lambdify((y, z), integrand_Γx[i]), 0, h, 0, h)[0]\n",
    "        f_Γy[i] = dblquad(sp.lambdify((x, z), integrand_Γy[i]), 0, h, 0, h)[0]\n",
    "        f_Γnegy[i] = dblquad(sp.lambdify((x, z), integrand_Γnegy[i]), 0, h, 0, h)[0]\n",
    "        f_Ω[i] = tplquad(sp.lambdify((x, y, z), integrand_Ω[i]), 0, h, 0, h, 0, h)[0]\n",
    "        f_Λ[i] = tplquad(sp.lambdify((x, y, z), integrand_Λ[i]), 0, h, 0, h, 0, h)[0]\n",
    "        \n",
    "f_Γ = f_Γx + f_Γy + f_Γnegy \n",
    "f = f_Γ + f_Ω + f_Λ #total force vector "
   ]
  },
  {
   "cell_type": "markdown",
   "id": "bf66be39-79d0-433e-9b4a-e011336e2b5d",
   "metadata": {},
   "source": [
    "## Swapping and partitioning"
   ]
  },
  {
   "cell_type": "markdown",
   "id": "06443123-cef7-4cd4-8084-b8bdf75859a2",
   "metadata": {},
   "source": [
    "In order to partition the finite element system of equations into the form shown in Equation 17, it is necessary to systematically sort $\\mathbf{K}$, $\\mathbf{d}$, and $\\mathbf{f}$ (as in Equation 17). The goal is to rearrange $\\mathbf{d}$ so that the velocity components chosen as boundary conditions appear as the top entries, with the unknown velocity components at the bottom $-$ while simultaneously sorting $\\mathbf{K}$ and $\\mathbf{f}$ so as to preserve the system of linear equations represented by $\\mathbf{K}\\mathbf{d} = \\mathbf{f}$. \n",
    "\n",
    "Bookkeeping will be done via a list, ```order```, which will document the new placement of each component of $\\mathbf{d}$ after sorting.  "
   ]
  },
  {
   "cell_type": "code",
   "execution_count": 14,
   "id": "ae0d0996-8f29-46c8-9445-2bc3d99f5871",
   "metadata": {},
   "outputs": [
    {
     "name": "stdout",
     "output_type": "stream",
     "text": [
      "This is the new placement of each velocity component after sorting:\n"
     ]
    },
    {
     "data": {
      "text/latex": [
       "$\\displaystyle \\left[\\begin{array}{}0 & 1 & 2 & 3 & 5 & 8 & 10 & 11 & 13 & 15 & 16 & 18 & 4 & 6 & 7 & 9 & 12 & 14 & 17 & 19 & 20 & 21 & 22 & 23\\end{array}\\right]$"
      ],
      "text/plain": [
       "[0, 1, 2, 3, 5, 8, 10, 11, 13, 15, 16, 18, 4, 6, 7, 9, 12, 14, 17, 19, 20, 21, 22, 23]"
      ]
     },
     "execution_count": 14,
     "metadata": {},
     "output_type": "execute_result"
    }
   ],
   "source": [
    "order = sorted(range(3*n_nodes), key = lambda i : BCs[i]) \n",
    "print('This is the new placement of each velocity component after sorting:')\n",
    "sp.Array(order)"
   ]
  },
  {
   "cell_type": "markdown",
   "id": "6bc8ef51-db34-4861-8db8-271299a2b65e",
   "metadata": {},
   "source": [
    "For example, in the biaxial extension case (i.e., if ```uniaxial_spread == True```), the 0th through 3rd velocity components have remained in their current positions; the 4th component now appears in position 12; the 5th component has moved to position 4, the 6th to position 13, and so on. (Compare this with the initial placement of velocity boundary conditions [above](#Velocity-(dirichlet)-boundary-conditions).)\n",
    "\n",
    "Next, we'll use this bookkeeper list to help rearrange the elements of $\\mathbf{K}$ and $\\mathbf{f}$. "
   ]
  },
  {
   "cell_type": "code",
   "execution_count": 15,
   "id": "96751365-9b6a-4306-a5da-57708f93c178",
   "metadata": {},
   "outputs": [],
   "source": [
    "#Initialize the element-swapped versions of f and K\n",
    "K_swapped = sp.zeros(K.rows, K.cols)\n",
    "f_swapped = sp.zeros(f.rows, f.cols)\n",
    "\n",
    "#And fill the matrices with their appropriate values:\n",
    "for i in range(K.rows):\n",
    "    f_swapped[i] = f[order[i]] #swap the correct rows of f\n",
    "    for j in range(K.cols):\n",
    "        K_swapped[i, j] = K[order[i], order[j]] \n",
    "        #and swap the correct rows AND columns of K"
   ]
  },
  {
   "cell_type": "markdown",
   "id": "5c9db357-fdd2-4776-834f-5b3be7a80422",
   "metadata": {},
   "source": [
    "With reference to Equation 17, we now compute $\\mathbf{K}_F$ and $\\mathbf{f}_F$:"
   ]
  },
  {
   "cell_type": "code",
   "execution_count": 16,
   "id": "365777a4-b068-44b7-a8b5-b7a306ca931c",
   "metadata": {},
   "outputs": [],
   "source": [
    "#To partition, first count the number of velocity BCs\n",
    "VBCs = BCs.count(0) #This is the number of 0s in the previously-defined list, BCs\n",
    "\n",
    "#Kf and ff are shown in Equation 17\n",
    "ff = sp.Matrix(f_swapped[VBCs:])\n",
    "Kf =  K_swapped[VBCs:, VBCs:]"
   ]
  },
  {
   "cell_type": "markdown",
   "id": "8e96cd2b-fdc9-470e-ada1-a136dafb691d",
   "metadata": {},
   "source": [
    "## Computing the linear rheology solution"
   ]
  },
  {
   "cell_type": "markdown",
   "id": "e7314680-e7b3-4ef8-8798-efaeb3cb68b1",
   "metadata": {},
   "source": [
    "### Nodal solution"
   ]
  },
  {
   "cell_type": "markdown",
   "id": "d7103145-85db-4d46-8729-22194ccd3d76",
   "metadata": {},
   "source": [
    "The nodal solution is obtained via Equation 18, with the added simplification that $\\mathbf{d}_E$ is just the zero vector (because every velocity boundary condition is zero). We could solve this by writing \n",
    "\n",
    "```\n",
    "df = Kf.inv()*ff\n",
    "```\n",
    "\n",
    "However, in general, it is more effecient to solve systems of linear equations without performing matrix inversions. Instead, use SymPy's ```linsolve``` function:"
   ]
  },
  {
   "cell_type": "code",
   "execution_count": 17,
   "id": "9973df6d-bb48-47e5-96b5-512eda0dcf86",
   "metadata": {},
   "outputs": [],
   "source": [
    "system = Kf, ff\n",
    "df = sp.linsolve(system) #solves the system Kf*X = ff for unknown X"
   ]
  },
  {
   "cell_type": "markdown",
   "id": "8405e4e0-79b3-48a9-8d75-69702d43b42c",
   "metadata": {},
   "source": [
    "The complete (but still [sorted](#Swapping-and-partitioning)!) list of nodal velocities is now given as the vector $\\begin{bmatrix} \\mathbf{d}_E & \\mathbf{d}_F \\end{bmatrix}^T$:"
   ]
  },
  {
   "cell_type": "code",
   "execution_count": 18,
   "id": "59d4c1c2-fe9a-4aa8-97ad-587f00190ca2",
   "metadata": {},
   "outputs": [],
   "source": [
    "de = [0]*VBCs \n",
    "df = list(list(df)[0])\n",
    "d_swapped = de + df"
   ]
  },
  {
   "cell_type": "markdown",
   "id": "c2a5e8ac-562b-45da-9dda-088d916e9c28",
   "metadata": {},
   "source": [
    "Put the elements of ```d_sorted``` back into their original places:"
   ]
  },
  {
   "cell_type": "code",
   "execution_count": 19,
   "id": "3aecc0da-741f-461f-9889-17dd3b3a65ae",
   "metadata": {},
   "outputs": [
    {
     "name": "stdout",
     "output_type": "stream",
     "text": [
      "This is the (transpose of) the nodal velocity solution, in the correct order:\n"
     ]
    },
    {
     "data": {
      "text/latex": [
       "$\\displaystyle \\left[\\begin{array}{cccccccccccccccccccccccc}0 & 0 & 0 & 0 & \\frac{g h^{2} ρ}{12 μ} & 0 & \\frac{g h^{2} ρ}{12 μ} & \\frac{g h^{2} ρ}{12 μ} & 0 & \\frac{g h^{2} ρ}{12 μ} & 0 & 0 & \\frac{g h^{2} ρ}{12 μ} & 0 & - \\frac{g h^{2} ρ}{6 μ} & 0 & 0 & - \\frac{g h^{2} ρ}{6 μ} & 0 & \\frac{g h^{2} ρ}{12 μ} & - \\frac{g h^{2} ρ}{6 μ} & \\frac{g h^{2} ρ}{12 μ} & \\frac{g h^{2} ρ}{12 μ} & - \\frac{g h^{2} ρ}{6 μ}\\end{array}\\right]$"
      ],
      "text/plain": [
       "Matrix([[0, 0, 0, 0, g*h**2*ρ/(12*μ), 0, g*h**2*ρ/(12*μ), g*h**2*ρ/(12*μ), 0, g*h**2*ρ/(12*μ), 0, 0, g*h**2*ρ/(12*μ), 0, -g*h**2*ρ/(6*μ), 0, 0, -g*h**2*ρ/(6*μ), 0, g*h**2*ρ/(12*μ), -g*h**2*ρ/(6*μ), g*h**2*ρ/(12*μ), g*h**2*ρ/(12*μ), -g*h**2*ρ/(6*μ)]])"
      ]
     },
     "execution_count": 19,
     "metadata": {},
     "output_type": "execute_result"
    }
   ],
   "source": [
    "d = [0]*3*n_nodes #initialize the final nodal solution\n",
    "for i in range(len(d_swapped)):\n",
    "    d[order[i]] = d_swapped[i] \n",
    "d = sp.Matrix(d) #solution is now in the order [u_1x, u_1y, u_1z, ..., u_8x, u_8y, u_8z]\n",
    "\n",
    "print('This is the (transpose of) the nodal velocity solution, in the correct order:')\n",
    "d.T"
   ]
  },
  {
   "cell_type": "markdown",
   "id": "1decbcde-481d-4617-a10b-3f88f5854d5d",
   "metadata": {},
   "source": [
    "### Continuous solution"
   ]
  },
  {
   "cell_type": "markdown",
   "id": "08bd0438-4818-43e1-bcf7-0cdef42967d2",
   "metadata": {},
   "source": [
    "This nodal solution can be used to obtain the *continuous* velocity solution, $\\mathbf{u}$, by interpolation. This is done, by approximation, using the element shape function matrix, with $\\mathbf{u} \\approx \\mathbf{N}\\mathbf{d}$."
   ]
  },
  {
   "cell_type": "code",
   "execution_count": 20,
   "id": "e504c1f8-1986-4fce-9725-823fb1595b74",
   "metadata": {},
   "outputs": [
    {
     "name": "stdout",
     "output_type": "stream",
     "text": [
      "Linear, continuous velocity solution for [u_x, u_y, u_z]:\n"
     ]
    },
    {
     "data": {
      "text/latex": [
       "$\\displaystyle \\left[\\begin{matrix}\\frac{g h x ρ}{12 μ} & \\frac{g h y ρ}{12 μ} & - \\frac{g h z ρ}{6 μ}\\end{matrix}\\right]$"
      ],
      "text/plain": [
       "Matrix([[g*h*x*ρ/(12*μ), g*h*y*ρ/(12*μ), -g*h*z*ρ/(6*μ)]])"
      ]
     },
     "execution_count": 20,
     "metadata": {},
     "output_type": "execute_result"
    }
   ],
   "source": [
    "u = mtx_N*d\n",
    "u = sp.simplify(u) #group like terms to express compactly\n",
    "\n",
    "if not symbolic_solution: #if solving numerically:\n",
    "    def round_expr(expr): #get rid of any annoying coefficients < 1e-20\n",
    "        return expr.xreplace({n : round(n, 20) for n in expr.atoms(sp.Number)})\n",
    "    u = round_expr(u)\n",
    "\n",
    "print('Linear, continuous velocity solution for [u_x, u_y, u_z]:')\n",
    "u.T"
   ]
  },
  {
   "cell_type": "markdown",
   "id": "322cdde2-a2f0-4854-9948-99b34aad5423",
   "metadata": {},
   "source": [
    "## Postprocessing"
   ]
  },
  {
   "cell_type": "markdown",
   "id": "aaf3287e-02a1-4555-b08b-c6015f9b5e26",
   "metadata": {},
   "source": [
    "The next goal will be to compute the nonlinear rheology solution. However, before this can be done, it is necessary to evaluate the stress field and update the effective viscosity. \n",
    "\n",
    "Our definition of the operator $\\boldsymbol{\\nabla}_R$ was prompted by the observation that $\\mathbf{R}:= \\mu\\boldsymbol{\\nabla}_R\\mathbf{u}$ represents the resistive stresses. Resistive stresses, in turn, can be used to calculate the deviatoric stresses via Equation 20; once deviatoric stresses are known, the effective stress is obtained via Equation 22, and, subsequently, the effective viscosity can be updated via Equation 21. "
   ]
  },
  {
   "cell_type": "code",
   "execution_count": 21,
   "id": "58ee5965-8a02-47b0-bdc7-458f8c72124e",
   "metadata": {},
   "outputs": [
    {
     "name": "stdout",
     "output_type": "stream",
     "text": [
      "deviatoric stresses [τ_xx, τ_yy, τ_zz, τ_xy, τ_xz, τ_yz]:\n"
     ]
    },
    {
     "data": {
      "text/latex": [
       "$\\displaystyle \\left[\\begin{matrix}\\frac{g h ρ}{6} & \\frac{g h ρ}{6} & - \\frac{g h ρ}{3} & 0 & 0 & 0\\end{matrix}\\right]$"
      ],
      "text/plain": [
       "Matrix([[g*h*ρ/6, g*h*ρ/6, -g*h*ρ/3, 0, 0, 0]])"
      ]
     },
     "execution_count": 21,
     "metadata": {},
     "output_type": "execute_result"
    }
   ],
   "source": [
    "#Calculate the resistive stress vector:\n",
    "R = μ*nabla_R(u) #[R_xx, R_yy, R_zz, R_xy, R_xz, R_yz]^T\n",
    "\n",
    "#And the associated deviatoric stresses (Eq. 20)\n",
    "τ = sp.Matrix([sp.Rational(2,3)*R[0] - sp.Rational(1,3)*R[1], #τ_xx\n",
    "                sp.Rational(2,3)*R[1] - sp.Rational(1,3)*R[0], #τ_yy\n",
    "                R[2] - sp.Rational(1,3)*(R[0] + R[1]), #τ_zz\n",
    "                R[3], R[4], R[5]]) #τ_xy, τ_xz, τ_yz\n",
    "\n",
    "#Calculate the effective stress τ_E (Eq. 22)\n",
    "expr = sum([τ[i]**2 for i in range(len(τ))])\n",
    "τ_E = sp.sqrt(sp.Rational(1,2)*expr)\n",
    "\n",
    "#Update the effective viscosity (Eq. 21)\n",
    "μ_2 = 1/(2*A*τ_E**(n-1))\n",
    "\n",
    "print('deviatoric stresses [τ_xx, τ_yy, τ_zz, τ_xy, τ_xz, τ_yz]:')\n",
    "τ.T"
   ]
  },
  {
   "cell_type": "markdown",
   "id": "c8f6b3b9-96aa-4ddb-b1eb-7af457fd525b",
   "metadata": {},
   "source": [
    "## Nonlinear rheology solution"
   ]
  },
  {
   "cell_type": "markdown",
   "id": "0824601c-f7ec-4d04-8182-b43883f80699",
   "metadata": {},
   "source": [
    "In general, to compute the nonlinear rheology solution, it would be necessary to run the whole scrip again with ```μ_2``` in place of ```μ```. But in this case, we can verify that ```μ_2``` is just a function of $\\rho$, $g$, $h$, and $A$, all of which were assumed constant:"
   ]
  },
  {
   "cell_type": "code",
   "execution_count": 22,
   "id": "2c4a0133-bbeb-4c6f-a055-400f7f4c9cb5",
   "metadata": {},
   "outputs": [
    {
     "data": {
      "text/latex": [
       "$\\displaystyle \\frac{\\left(\\frac{\\sqrt{3} g h ρ}{6}\\right)^{1 - n}}{2 A}$"
      ],
      "text/plain": [
       "(sqrt(3)*g*h*ρ/6)**(1 - n)/(2*A)"
      ]
     },
     "execution_count": 22,
     "metadata": {},
     "output_type": "execute_result"
    }
   ],
   "source": [
    "μ_2"
   ]
  },
  {
   "cell_type": "markdown",
   "id": "15eb049c-59e6-4791-8737-fba7c8041f5e",
   "metadata": {},
   "source": [
    "Therefore, ```μ_2``` is a constant, like ```μ```, and a second iteration would just return the same solution with ```μ_2``` in place of ```μ```. In this case, we may as well update the solution manually:"
   ]
  },
  {
   "cell_type": "markdown",
   "id": "73707050-0408-4ca5-9ea6-a472b730c622",
   "metadata": {},
   "source": [
    "### Nonlineal nodal solution"
   ]
  },
  {
   "cell_type": "code",
   "execution_count": 23,
   "id": "812cbb7e-8147-4a23-b7d3-c6878d927d42",
   "metadata": {},
   "outputs": [
    {
     "name": "stdout",
     "output_type": "stream",
     "text": [
      "Nonlinear nodal velocity solution for [u_1x, u_1y, u1_z, ..., u_8x, u_8y, u_8z]:\n"
     ]
    },
    {
     "data": {
      "text/latex": [
       "$\\displaystyle \\left[\\begin{array}{cccccccccccccccccccccccc}0 & 0 & 0 & 0 & 6^{- n} A g h^{2} ρ \\left(\\sqrt{3} g h ρ\\right)^{n - 1} & 0 & 6^{- n} A g h^{2} ρ \\left(\\sqrt{3} g h ρ\\right)^{n - 1} & 6^{- n} A g h^{2} ρ \\left(\\sqrt{3} g h ρ\\right)^{n - 1} & 0 & 6^{- n} A g h^{2} ρ \\left(\\sqrt{3} g h ρ\\right)^{n - 1} & 0 & 0 & 6^{- n} A g h^{2} ρ \\left(\\sqrt{3} g h ρ\\right)^{n - 1} & 0 & - 2 \\cdot 6^{- n} A g h^{2} ρ \\left(\\sqrt{3} g h ρ\\right)^{n - 1} & 0 & 0 & - 2 \\cdot 6^{- n} A g h^{2} ρ \\left(\\sqrt{3} g h ρ\\right)^{n - 1} & 0 & 6^{- n} A g h^{2} ρ \\left(\\sqrt{3} g h ρ\\right)^{n - 1} & - 2 \\cdot 6^{- n} A g h^{2} ρ \\left(\\sqrt{3} g h ρ\\right)^{n - 1} & 6^{- n} A g h^{2} ρ \\left(\\sqrt{3} g h ρ\\right)^{n - 1} & 6^{- n} A g h^{2} ρ \\left(\\sqrt{3} g h ρ\\right)^{n - 1} & - 2 \\cdot 6^{- n} A g h^{2} ρ \\left(\\sqrt{3} g h ρ\\right)^{n - 1}\\end{array}\\right]$"
      ],
      "text/plain": [
       "Matrix([[0, 0, 0, 0, A*g*h**2*ρ*(sqrt(3)*g*h*ρ)**(n - 1)/6**n, 0, A*g*h**2*ρ*(sqrt(3)*g*h*ρ)**(n - 1)/6**n, A*g*h**2*ρ*(sqrt(3)*g*h*ρ)**(n - 1)/6**n, 0, A*g*h**2*ρ*(sqrt(3)*g*h*ρ)**(n - 1)/6**n, 0, 0, A*g*h**2*ρ*(sqrt(3)*g*h*ρ)**(n - 1)/6**n, 0, -2*A*g*h**2*ρ*(sqrt(3)*g*h*ρ)**(n - 1)/6**n, 0, 0, -2*A*g*h**2*ρ*(sqrt(3)*g*h*ρ)**(n - 1)/6**n, 0, A*g*h**2*ρ*(sqrt(3)*g*h*ρ)**(n - 1)/6**n, -2*A*g*h**2*ρ*(sqrt(3)*g*h*ρ)**(n - 1)/6**n, A*g*h**2*ρ*(sqrt(3)*g*h*ρ)**(n - 1)/6**n, A*g*h**2*ρ*(sqrt(3)*g*h*ρ)**(n - 1)/6**n, -2*A*g*h**2*ρ*(sqrt(3)*g*h*ρ)**(n - 1)/6**n]])"
      ]
     },
     "execution_count": 23,
     "metadata": {},
     "output_type": "execute_result"
    }
   ],
   "source": [
    "if symbolic_solution:\n",
    "    d_2 = d.subs(μ, μ_2) #substitute μ_2 in place of μ\n",
    "    d_2 = sp.simplify(d_2) #and simplify\n",
    "    \n",
    "else:\n",
    "    d_2 = d*μ/μ_2\n",
    "\n",
    "print('Nonlinear nodal velocity solution for [u_1x, u_1y, u1_z, ..., u_8x, u_8y, u_8z]:')\n",
    "d_2.T"
   ]
  },
  {
   "cell_type": "markdown",
   "id": "04d83935-3bf3-4b85-bae3-af73187960f7",
   "metadata": {},
   "source": [
    "### Nonlinear continuous solution"
   ]
  },
  {
   "cell_type": "code",
   "execution_count": 24,
   "id": "9b8877e4-9693-4858-8cc3-dd40769c1788",
   "metadata": {},
   "outputs": [
    {
     "name": "stdout",
     "output_type": "stream",
     "text": [
      "Nonlinear, continuous velocity solution [u_x, u_y, u_z]:\n"
     ]
    },
    {
     "data": {
      "text/latex": [
       "$\\displaystyle \\left[\\begin{matrix}6^{- n} A g h x ρ \\left(\\sqrt{3} g h ρ\\right)^{n - 1} & 6^{- n} A g h y ρ \\left(\\sqrt{3} g h ρ\\right)^{n - 1} & - 2 \\cdot 6^{- n} A g h z ρ \\left(\\sqrt{3} g h ρ\\right)^{n - 1}\\end{matrix}\\right]$"
      ],
      "text/plain": [
       "Matrix([[A*g*h*x*ρ*(sqrt(3)*g*h*ρ)**(n - 1)/6**n, A*g*h*y*ρ*(sqrt(3)*g*h*ρ)**(n - 1)/6**n, -2*A*g*h*z*ρ*(sqrt(3)*g*h*ρ)**(n - 1)/6**n]])"
      ]
     },
     "execution_count": 24,
     "metadata": {},
     "output_type": "execute_result"
    }
   ],
   "source": [
    "if symbolic_solution:\n",
    "    u_2 = u.subs(μ, μ_2) #substitute μ_2 in place of μ\n",
    "    u_2 = sp.simplify(u_2) #and simplify\n",
    "    \n",
    "else:\n",
    "    u_2 = u*μ/μ_2\n",
    "\n",
    "print('Nonlinear, continuous velocity solution [u_x, u_y, u_z]:')\n",
    "u_2.T"
   ]
  }
 ],
 "metadata": {
  "kernelspec": {
   "display_name": "Python [conda env:base22b] *",
   "language": "python",
   "name": "conda-env-base22b-py"
  },
  "language_info": {
   "codemirror_mode": {
    "name": "ipython",
    "version": 3
   },
   "file_extension": ".py",
   "mimetype": "text/x-python",
   "name": "python",
   "nbconvert_exporter": "python",
   "pygments_lexer": "ipython3",
   "version": "3.10.6"
  }
 },
 "nbformat": 4,
 "nbformat_minor": 5
}
