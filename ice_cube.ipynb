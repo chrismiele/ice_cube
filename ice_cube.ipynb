{
 "cells": [
  {
   "cell_type": "markdown",
   "metadata": {},
   "source": [
    "# Example of implementation: an extending ice cube"
   ]
  },
  {
   "cell_type": "markdown",
   "metadata": {
    "tags": []
   },
   "source": [
    "## Intro, imports, and images\n",
    "This notebook applies the finite element method to obtain the velocity field of a cube of ice, of side length $h$, spreading horizontally and compressing vertically under its own weight. The setup is depicted in Figure 1 of the main text, which is reproduced [below](#Figure-1). This script uses the symbolic math library ```SymPy``` to solve the FEM equations symbolically, and it provides the option of solving numerically with functions from ```NumPy``` and ```SciPy```. The workflow of the code mirrors the workflow beginning on page 15 of the paper and can be used to verify the derivations presented in that section. Access this notebook interactively with Binder: [![Binder](https://mybinder.org/badge_logo.svg)](https://mybinder.org/v2/gh/chrismiele/ice_cube/main)"
   ]
  },
  {
   "cell_type": "code",
   "execution_count": 1,
   "metadata": {},
   "outputs": [],
   "source": [
    "import sympy as sp\n",
    "import numpy as np\n",
    "from scipy.integrate import dblquad, tplquad #double and triple numeric integration"
   ]
  },
  {
   "cell_type": "markdown",
   "metadata": {},
   "source": [
    "### Figure 1\n",
    "\n",
    "The domain over which we implement our finite element system of equations. The shaded area represents the quadrant of the ice block within which we obtain our 3D velocity field. The block is meshed as indicated by the node numbers shown, with node 1 at the origin, node 2 at $(0, h, 0)$, and so on. The bottom surface ($z = 0$) rests on a hard, slippery barrier."
   ]
  },
  {
   "cell_type": "markdown",
   "metadata": {},
   "source": [
    "<img src='cube.PNG' width='500'>"
   ]
  },
  {
   "cell_type": "markdown",
   "metadata": {},
   "source": [
    "This code will be slightly more flexible than the example presented in the main text. The default setting will be the situation of biaxial extension (i.e., extending both longitudinally and laterally, with the boundary at $y = h$ representing a second ice cliff), as in the manuscript. However, this script will provide the additional option of solving for uniaxial extension (i.e., extending only longitudinally, between slippery lateral barriers at $y = h$ and $y = 0$). Setting ```uniaxial_spread``` to ```False``` in the code block below will solve the biaxial extension problem posed in the manuscript. Setting ```uniaxial_spread``` to ```True``` will solve the uniaxial extension problem.\n",
    "\n",
    "The script can be run to provide symbolic solutions (in which all variables are kept general) by setting ```symbolic_solution``` to ```True```. Otherwise, if set to ```False```, the equations are solved numerically, given values specified in the [third cell block](#Spatial-variables,-dimensions,-and-physical-parameters). Solve symbolically to mathematically explore each step in the algorithm, or solve numerically for more efficient and generalizeable calculations. "
   ]
  },
  {
   "cell_type": "code",
   "execution_count": 2,
   "metadata": {},
   "outputs": [],
   "source": [
    "uniaxial_spread = False\n",
    "symbolic_solution = True"
   ]
  },
  {
   "cell_type": "markdown",
   "metadata": {},
   "source": [
    "## Spatial variables, dimensions, and physical parameters"
   ]
  },
  {
   "cell_type": "markdown",
   "metadata": {},
   "source": [
    "Define the spatial coordinates $x$, $y$, and $z$, alongside the side length $h$, viscosity $\\mu$, density $\\rho$, gravitational constant $g$, rate factor $A$, and flow exponent $n$. Units are meters, seconds, kilograms, Pascals, etc. \n",
    "\n",
    "As well, define the lithostatic vector $\\boldsymbol{\\Lambda}$ and body force vector $\\mathbf{b}$, which are given implicitly in Equation 8 as \n",
    "\n",
    "$$\\boldsymbol{\\Lambda} := \\rho g(h-z)\\begin{bmatrix}1 & 1 & 1 & 0 & 0 & 0\\end{bmatrix}^T \\hspace{1cm} \\text{and} \\hspace{1cm}\\mathbf{b} := -\\rho g\\begin{bmatrix}0 & 0 & 1\\end{bmatrix}^T$$ "
   ]
  },
  {
   "cell_type": "code",
   "execution_count": 3,
   "metadata": {},
   "outputs": [],
   "source": [
    "x, y, z = sp.symbols('x, y, z', real=True)\n",
    "n_nodes = 8 #one node at each corner of the cube \n",
    "\n",
    "h = 100\n",
    "μ, ρ, g, A, n = 4e13, 917, 9.8, 1e-23, 3\n",
    "\n",
    "if symbolic_solution: #if we want a symbolic solution:\n",
    "    h = sp.symbols('h', positive=True, constant=True) #keep these values unspecified\n",
    "    μ, ρ, g, A, n = sp.symbols('μ, ρ, g, A, n', positive=True, constant=True)\n",
    "    \n",
    "Λ = ρ*g*(h-z)*sp.Matrix((1, 1, 1, 0, 0, 0))\n",
    "b = -ρ*g*sp.Matrix((0, 0, 1))"
   ]
  },
  {
   "cell_type": "markdown",
   "metadata": {
    "tags": []
   },
   "source": [
    "## Symmetric and resistive gradient operators "
   ]
  },
  {
   "cell_type": "markdown",
   "metadata": {},
   "source": [
    "The symmetric and resistive gradient operators, which are needed for several calculations, are defined\n",
    "\n",
    "$$\\boldsymbol{\\nabla}_S := \\begin{bmatrix}\\frac{\\partial}{\\partial x} & 0 & 0\\\\\n",
    "0 & \\frac{\\partial}{\\partial y} & 0\\\\\n",
    "0 & 0 & \\frac{\\partial}{\\partial z}\\\\\n",
    "\\frac{\\partial}{\\partial y} & \\frac{\\partial}{\\partial x} & 0\\\\\n",
    "\\frac{\\partial}{\\partial z} & 0 & \\frac{\\partial}{\\partial x}\\\\\n",
    "0 & \\frac{\\partial}{\\partial z} & \\frac{\\partial}{\\partial y}\n",
    "\\end{bmatrix} \\hspace{1cm} \\text{and} \\hspace {1cm}\\boldsymbol{\\nabla}_R := \\begin{bmatrix}4\\frac{\\partial}{\\partial x} & 2\\frac{\\partial}{\\partial y} & 0\\\\\n",
    "2\\frac{\\partial}{\\partial x} & 4\\frac{\\partial}{\\partial y} & 0\\\\\n",
    "2\\frac{\\partial}{\\partial x} & 2\\frac{\\partial}{\\partial y} & 2\\frac{\\partial}{\\partial z}\\\\\n",
    "\\frac{\\partial}{\\partial y} & \\frac{\\partial}{\\partial x} & 0\\\\\n",
    "\\frac{\\partial}{\\partial z} & 0 & \\frac{\\partial}{\\partial x}\\\\\n",
    "0 & \\frac{\\partial}{\\partial z} & \\frac{\\partial}{\\partial y}\n",
    "\\end{bmatrix}$$\n",
    "\n",
    "We include these as functions, ```nabla_S``` and ```nabla_R```. For example, the function ```nabla_S``` will take a matrix ```M``` as input and return the matrix product $\\boldsymbol{\\nabla}_S\\mathbf{M}$. "
   ]
  },
  {
   "cell_type": "code",
   "execution_count": 4,
   "metadata": {},
   "outputs": [],
   "source": [
    "def nabla_S(M):\n",
    "    out = sp.zeros(6, M.cols) #initialize output\n",
    "    for i in range(M.cols):\n",
    "        out[0, i] = sp.diff(M[0, i], x) #∂/∂x of entry at (0, i)\n",
    "        out[1, i] = sp.diff(M[1, i], y) #∂/∂y of entry at (1, i)\n",
    "        out[2, i] = sp.diff(M[2, i], z) #etc.\n",
    "        out[3, i] = sp.diff(M[0, i], y) + sp.diff(M[1, i], x)\n",
    "        out[4, i] = sp.diff(M[0, i], z) + sp.diff(M[2, i], x)\n",
    "        out[5, i] = sp.diff(M[1, i], z) + sp.diff(M[2, i], y)\n",
    "    return out #return the dot product ∇_S*M\n",
    "\n",
    "def nabla_R(M):\n",
    "    out = sp.zeros(6, M.cols) #initialize output\n",
    "    for i in range(M.cols):\n",
    "        out[0, i] = 4*sp.diff(M[0, i], x) + 2*sp.diff(M[1, i], y) #4∂/∂x of entry at (0, i) + 2∂/∂y of entry at (1, i)\n",
    "        out[1, i] = 2*sp.diff(M[0, i], x) + 4*sp.diff(M[1, i], y) #etc.\n",
    "        out[2, i] = 2*sp.diff(M[0, i], x) + 2*sp.diff(M[1, i], y) + 2*sp.diff(M[2, i], z)\n",
    "        out[3, i] = sp.diff(M[0, i], y) + sp.diff(M[1, i], x)\n",
    "        out[4, i] = sp.diff(M[0, i], z) + sp.diff(M[2, i], x)\n",
    "        out[5, i] = sp.diff(M[1, i], z) + sp.diff(M[2, i], y)\n",
    "    return out #return the dot product ∇_R*M"
   ]
  },
  {
   "cell_type": "markdown",
   "metadata": {},
   "source": [
    "## Shape functions and their gradients"
   ]
  },
  {
   "cell_type": "markdown",
   "metadata": {},
   "source": [
    "The nodal shape functions $N_1$ through $N_8$ are defined such that $N_i$ evaluates to one at node $i$ and zero at every other node. It can be directly verified that the functions below satisfy this property for the setup shown in [Figure 1](#Figure-1). These functions are also given in Equation 26."
   ]
  },
  {
   "cell_type": "code",
   "execution_count": 5,
   "metadata": {},
   "outputs": [
    {
     "name": "stdout",
     "output_type": "stream",
     "text": [
      "N2 evaluated at node 2: N2(0, h, 0) = 1\n",
      "N2 evaluated at node 5: N2(h, 0, h) = 0\n"
     ]
    }
   ],
   "source": [
    "N1 = (h-x)*(h-y)*(h-z)/h**3\n",
    "N2 = (h-x)*y*(h-z)/h**3\n",
    "N3 = x*y*(h-z)/h**3\n",
    "N4 = x*(h-y)*(h-z)/h**3\n",
    "N5 = x*(h-y)*z/h**3\n",
    "N6 = (h-x)*(h-y)*z/h**3\n",
    "N7 = (h-x)*y*z/h**3\n",
    "N8 = x*y*z/h**3\n",
    "\n",
    "#For example, node 2 is at (0, h, 0) and node 5 is at (h, 0, h)\n",
    "print('N2 evaluated at node 2:', 'N2(0, h, 0) =', N2.subs({x:0, y:h, z:0}))\n",
    "print('N2 evaluated at node 5:', 'N2(h, 0, h) =', N2.subs({x:h, y:0, z:h}))"
   ]
  },
  {
   "cell_type": "markdown",
   "metadata": {},
   "source": [
    "Next, it's useful to express these shape function in matrix form, defining \n",
    "\n",
    "$$\\mathbf{N} := \\begin{bmatrix}N_1 & 0 & 0 & N_2 & 0 & 0 & ... & N_8 & 0 & 0\\\\\n",
    "0 & N_1 & 0 & 0 & N_2 & 0 & ... & 0 & N_8 & 0\\\\\n",
    "0 & 0 & N_1 & 0 & 0 & N_2 & ... & 0 & 0 & N_8\n",
    "\\end{bmatrix}$$"
   ]
  },
  {
   "cell_type": "code",
   "execution_count": 6,
   "metadata": {},
   "outputs": [
    {
     "name": "stdout",
     "output_type": "stream",
     "text": [
      "Shape function in matrix form:\n"
     ]
    },
    {
     "data": {
      "text/latex": [
       "$\\displaystyle \\left[\\begin{array}{cccccccccccccccccccccccc}\\frac{\\left(h - x\\right) \\left(h - y\\right) \\left(h - z\\right)}{h^{3}} & 0 & 0 & \\frac{y \\left(h - x\\right) \\left(h - z\\right)}{h^{3}} & 0 & 0 & \\frac{x y \\left(h - z\\right)}{h^{3}} & 0 & 0 & \\frac{x \\left(h - y\\right) \\left(h - z\\right)}{h^{3}} & 0 & 0 & \\frac{x z \\left(h - y\\right)}{h^{3}} & 0 & 0 & \\frac{z \\left(h - x\\right) \\left(h - y\\right)}{h^{3}} & 0 & 0 & \\frac{y z \\left(h - x\\right)}{h^{3}} & 0 & 0 & \\frac{x y z}{h^{3}} & 0 & 0\\\\0 & \\frac{\\left(h - x\\right) \\left(h - y\\right) \\left(h - z\\right)}{h^{3}} & 0 & 0 & \\frac{y \\left(h - x\\right) \\left(h - z\\right)}{h^{3}} & 0 & 0 & \\frac{x y \\left(h - z\\right)}{h^{3}} & 0 & 0 & \\frac{x \\left(h - y\\right) \\left(h - z\\right)}{h^{3}} & 0 & 0 & \\frac{x z \\left(h - y\\right)}{h^{3}} & 0 & 0 & \\frac{z \\left(h - x\\right) \\left(h - y\\right)}{h^{3}} & 0 & 0 & \\frac{y z \\left(h - x\\right)}{h^{3}} & 0 & 0 & \\frac{x y z}{h^{3}} & 0\\\\0 & 0 & \\frac{\\left(h - x\\right) \\left(h - y\\right) \\left(h - z\\right)}{h^{3}} & 0 & 0 & \\frac{y \\left(h - x\\right) \\left(h - z\\right)}{h^{3}} & 0 & 0 & \\frac{x y \\left(h - z\\right)}{h^{3}} & 0 & 0 & \\frac{x \\left(h - y\\right) \\left(h - z\\right)}{h^{3}} & 0 & 0 & \\frac{x z \\left(h - y\\right)}{h^{3}} & 0 & 0 & \\frac{z \\left(h - x\\right) \\left(h - y\\right)}{h^{3}} & 0 & 0 & \\frac{y z \\left(h - x\\right)}{h^{3}} & 0 & 0 & \\frac{x y z}{h^{3}}\\end{array}\\right]$"
      ],
      "text/plain": [
       "Matrix([\n",
       "[(h - x)*(h - y)*(h - z)/h**3,                            0,                            0, y*(h - x)*(h - z)/h**3,                      0,                      0, x*y*(h - z)/h**3,                0,                0, x*(h - y)*(h - z)/h**3,                      0,                      0, x*z*(h - y)/h**3,                0,                0, z*(h - x)*(h - y)/h**3,                      0,                      0, y*z*(h - x)/h**3,                0,                0, x*y*z/h**3,          0,          0],\n",
       "[                           0, (h - x)*(h - y)*(h - z)/h**3,                            0,                      0, y*(h - x)*(h - z)/h**3,                      0,                0, x*y*(h - z)/h**3,                0,                      0, x*(h - y)*(h - z)/h**3,                      0,                0, x*z*(h - y)/h**3,                0,                      0, z*(h - x)*(h - y)/h**3,                      0,                0, y*z*(h - x)/h**3,                0,          0, x*y*z/h**3,          0],\n",
       "[                           0,                            0, (h - x)*(h - y)*(h - z)/h**3,                      0,                      0, y*(h - x)*(h - z)/h**3,                0,                0, x*y*(h - z)/h**3,                      0,                      0, x*(h - y)*(h - z)/h**3,                0,                0, x*z*(h - y)/h**3,                      0,                      0, z*(h - x)*(h - y)/h**3,                0,                0, y*z*(h - x)/h**3,          0,          0, x*y*z/h**3]])"
      ]
     },
     "execution_count": 6,
     "metadata": {},
     "output_type": "execute_result"
    }
   ],
   "source": [
    "#First, write the shape functions as an 8-by-1 vector\n",
    "vec_N = sp.Array((N1, N2, N3, N4, N5, N6, N7, N8))\n",
    "\n",
    "#Now construct the shape function N as a 3-by-24 matrix\n",
    "N = sp.zeros(3, 3*n_nodes) #initialize the matrix N\n",
    "I = sp.eye(3) #3x3 identity matrix\n",
    "for i in range(n_nodes):\n",
    "    N[0:3, 3*i:3*i+3] = I*vec_N[i] #each ith 3x3 submatrix gets assigned I*N_i\n",
    "\n",
    "#Output a visual representation of N:\n",
    "print('Shape function in matrix form:')\n",
    "N"
   ]
  },
  {
   "cell_type": "markdown",
   "metadata": {},
   "source": [
    "The gradients of the shape function are $\\mathbf{B}_S = \\boldsymbol{\\nabla}_S\\mathbf{N}$ and $\\mathbf{B}_R = \\boldsymbol{\\nabla}_R\\mathbf{N}$, which are evaluated as"
   ]
  },
  {
   "cell_type": "code",
   "execution_count": 7,
   "metadata": {},
   "outputs": [
    {
     "name": "stdout",
     "output_type": "stream",
     "text": [
      "Resistive gradient of the shape function matrix, ∇_R*N := B_R\n"
     ]
    },
    {
     "data": {
      "text/latex": [
       "$\\displaystyle \\left[\\begin{array}{cccccccccccccccccccccccc}- \\frac{4 \\left(h - y\\right) \\left(h - z\\right)}{h^{3}} & - \\frac{2 \\left(h - x\\right) \\left(h - z\\right)}{h^{3}} & 0 & - \\frac{4 y \\left(h - z\\right)}{h^{3}} & \\frac{2 \\left(h - x\\right) \\left(h - z\\right)}{h^{3}} & 0 & \\frac{4 y \\left(h - z\\right)}{h^{3}} & \\frac{2 x \\left(h - z\\right)}{h^{3}} & 0 & \\frac{4 \\left(h - y\\right) \\left(h - z\\right)}{h^{3}} & - \\frac{2 x \\left(h - z\\right)}{h^{3}} & 0 & \\frac{4 z \\left(h - y\\right)}{h^{3}} & - \\frac{2 x z}{h^{3}} & 0 & - \\frac{4 z \\left(h - y\\right)}{h^{3}} & - \\frac{2 z \\left(h - x\\right)}{h^{3}} & 0 & - \\frac{4 y z}{h^{3}} & \\frac{2 z \\left(h - x\\right)}{h^{3}} & 0 & \\frac{4 y z}{h^{3}} & \\frac{2 x z}{h^{3}} & 0\\\\- \\frac{2 \\left(h - y\\right) \\left(h - z\\right)}{h^{3}} & - \\frac{4 \\left(h - x\\right) \\left(h - z\\right)}{h^{3}} & 0 & - \\frac{2 y \\left(h - z\\right)}{h^{3}} & \\frac{4 \\left(h - x\\right) \\left(h - z\\right)}{h^{3}} & 0 & \\frac{2 y \\left(h - z\\right)}{h^{3}} & \\frac{4 x \\left(h - z\\right)}{h^{3}} & 0 & \\frac{2 \\left(h - y\\right) \\left(h - z\\right)}{h^{3}} & - \\frac{4 x \\left(h - z\\right)}{h^{3}} & 0 & \\frac{2 z \\left(h - y\\right)}{h^{3}} & - \\frac{4 x z}{h^{3}} & 0 & - \\frac{2 z \\left(h - y\\right)}{h^{3}} & - \\frac{4 z \\left(h - x\\right)}{h^{3}} & 0 & - \\frac{2 y z}{h^{3}} & \\frac{4 z \\left(h - x\\right)}{h^{3}} & 0 & \\frac{2 y z}{h^{3}} & \\frac{4 x z}{h^{3}} & 0\\\\- \\frac{2 \\left(h - y\\right) \\left(h - z\\right)}{h^{3}} & - \\frac{2 \\left(h - x\\right) \\left(h - z\\right)}{h^{3}} & - \\frac{2 \\left(h - x\\right) \\left(h - y\\right)}{h^{3}} & - \\frac{2 y \\left(h - z\\right)}{h^{3}} & \\frac{2 \\left(h - x\\right) \\left(h - z\\right)}{h^{3}} & - \\frac{2 y \\left(h - x\\right)}{h^{3}} & \\frac{2 y \\left(h - z\\right)}{h^{3}} & \\frac{2 x \\left(h - z\\right)}{h^{3}} & - \\frac{2 x y}{h^{3}} & \\frac{2 \\left(h - y\\right) \\left(h - z\\right)}{h^{3}} & - \\frac{2 x \\left(h - z\\right)}{h^{3}} & - \\frac{2 x \\left(h - y\\right)}{h^{3}} & \\frac{2 z \\left(h - y\\right)}{h^{3}} & - \\frac{2 x z}{h^{3}} & \\frac{2 x \\left(h - y\\right)}{h^{3}} & - \\frac{2 z \\left(h - y\\right)}{h^{3}} & - \\frac{2 z \\left(h - x\\right)}{h^{3}} & \\frac{2 \\left(h - x\\right) \\left(h - y\\right)}{h^{3}} & - \\frac{2 y z}{h^{3}} & \\frac{2 z \\left(h - x\\right)}{h^{3}} & \\frac{2 y \\left(h - x\\right)}{h^{3}} & \\frac{2 y z}{h^{3}} & \\frac{2 x z}{h^{3}} & \\frac{2 x y}{h^{3}}\\\\- \\frac{\\left(h - x\\right) \\left(h - z\\right)}{h^{3}} & - \\frac{\\left(h - y\\right) \\left(h - z\\right)}{h^{3}} & 0 & \\frac{\\left(h - x\\right) \\left(h - z\\right)}{h^{3}} & - \\frac{y \\left(h - z\\right)}{h^{3}} & 0 & \\frac{x \\left(h - z\\right)}{h^{3}} & \\frac{y \\left(h - z\\right)}{h^{3}} & 0 & - \\frac{x \\left(h - z\\right)}{h^{3}} & \\frac{\\left(h - y\\right) \\left(h - z\\right)}{h^{3}} & 0 & - \\frac{x z}{h^{3}} & \\frac{z \\left(h - y\\right)}{h^{3}} & 0 & - \\frac{z \\left(h - x\\right)}{h^{3}} & - \\frac{z \\left(h - y\\right)}{h^{3}} & 0 & \\frac{z \\left(h - x\\right)}{h^{3}} & - \\frac{y z}{h^{3}} & 0 & \\frac{x z}{h^{3}} & \\frac{y z}{h^{3}} & 0\\\\- \\frac{\\left(h - x\\right) \\left(h - y\\right)}{h^{3}} & 0 & - \\frac{\\left(h - y\\right) \\left(h - z\\right)}{h^{3}} & - \\frac{y \\left(h - x\\right)}{h^{3}} & 0 & - \\frac{y \\left(h - z\\right)}{h^{3}} & - \\frac{x y}{h^{3}} & 0 & \\frac{y \\left(h - z\\right)}{h^{3}} & - \\frac{x \\left(h - y\\right)}{h^{3}} & 0 & \\frac{\\left(h - y\\right) \\left(h - z\\right)}{h^{3}} & \\frac{x \\left(h - y\\right)}{h^{3}} & 0 & \\frac{z \\left(h - y\\right)}{h^{3}} & \\frac{\\left(h - x\\right) \\left(h - y\\right)}{h^{3}} & 0 & - \\frac{z \\left(h - y\\right)}{h^{3}} & \\frac{y \\left(h - x\\right)}{h^{3}} & 0 & - \\frac{y z}{h^{3}} & \\frac{x y}{h^{3}} & 0 & \\frac{y z}{h^{3}}\\\\0 & - \\frac{\\left(h - x\\right) \\left(h - y\\right)}{h^{3}} & - \\frac{\\left(h - x\\right) \\left(h - z\\right)}{h^{3}} & 0 & - \\frac{y \\left(h - x\\right)}{h^{3}} & \\frac{\\left(h - x\\right) \\left(h - z\\right)}{h^{3}} & 0 & - \\frac{x y}{h^{3}} & \\frac{x \\left(h - z\\right)}{h^{3}} & 0 & - \\frac{x \\left(h - y\\right)}{h^{3}} & - \\frac{x \\left(h - z\\right)}{h^{3}} & 0 & \\frac{x \\left(h - y\\right)}{h^{3}} & - \\frac{x z}{h^{3}} & 0 & \\frac{\\left(h - x\\right) \\left(h - y\\right)}{h^{3}} & - \\frac{z \\left(h - x\\right)}{h^{3}} & 0 & \\frac{y \\left(h - x\\right)}{h^{3}} & \\frac{z \\left(h - x\\right)}{h^{3}} & 0 & \\frac{x y}{h^{3}} & \\frac{x z}{h^{3}}\\end{array}\\right]$"
      ],
      "text/plain": [
       "Matrix([\n",
       "[-4*(h - y)*(h - z)/h**3, -2*(h - x)*(h - z)/h**3,                       0,    -4*y*(h - z)/h**3, 2*(h - x)*(h - z)/h**3,                    0, 4*y*(h - z)/h**3, 2*x*(h - z)/h**3,              0, 4*(h - y)*(h - z)/h**3,    -2*x*(h - z)/h**3,                    0, 4*z*(h - y)/h**3,    -2*x*z/h**3,                0,    -4*z*(h - y)/h**3,    -2*z*(h - x)/h**3,                      0,    -4*y*z/h**3, 2*z*(h - x)/h**3,                0, 4*y*z/h**3, 2*x*z/h**3,          0],\n",
       "[-2*(h - y)*(h - z)/h**3, -4*(h - x)*(h - z)/h**3,                       0,    -2*y*(h - z)/h**3, 4*(h - x)*(h - z)/h**3,                    0, 2*y*(h - z)/h**3, 4*x*(h - z)/h**3,              0, 2*(h - y)*(h - z)/h**3,    -4*x*(h - z)/h**3,                    0, 2*z*(h - y)/h**3,    -4*x*z/h**3,                0,    -2*z*(h - y)/h**3,    -4*z*(h - x)/h**3,                      0,    -2*y*z/h**3, 4*z*(h - x)/h**3,                0, 2*y*z/h**3, 4*x*z/h**3,          0],\n",
       "[-2*(h - y)*(h - z)/h**3, -2*(h - x)*(h - z)/h**3, -2*(h - x)*(h - y)/h**3,    -2*y*(h - z)/h**3, 2*(h - x)*(h - z)/h**3,    -2*y*(h - x)/h**3, 2*y*(h - z)/h**3, 2*x*(h - z)/h**3,    -2*x*y/h**3, 2*(h - y)*(h - z)/h**3,    -2*x*(h - z)/h**3,    -2*x*(h - y)/h**3, 2*z*(h - y)/h**3,    -2*x*z/h**3, 2*x*(h - y)/h**3,    -2*z*(h - y)/h**3,    -2*z*(h - x)/h**3, 2*(h - x)*(h - y)/h**3,    -2*y*z/h**3, 2*z*(h - x)/h**3, 2*y*(h - x)/h**3, 2*y*z/h**3, 2*x*z/h**3, 2*x*y/h**3],\n",
       "[  -(h - x)*(h - z)/h**3,   -(h - y)*(h - z)/h**3,                       0, (h - x)*(h - z)/h**3,        -y*(h - z)/h**3,                    0,   x*(h - z)/h**3,   y*(h - z)/h**3,              0,        -x*(h - z)/h**3, (h - y)*(h - z)/h**3,                    0,        -x*z/h**3, z*(h - y)/h**3,                0,      -z*(h - x)/h**3,      -z*(h - y)/h**3,                      0, z*(h - x)/h**3,        -y*z/h**3,                0,   x*z/h**3,   y*z/h**3,          0],\n",
       "[  -(h - x)*(h - y)/h**3,                       0,   -(h - y)*(h - z)/h**3,      -y*(h - x)/h**3,                      0,      -y*(h - z)/h**3,        -x*y/h**3,                0, y*(h - z)/h**3,        -x*(h - y)/h**3,                    0, (h - y)*(h - z)/h**3,   x*(h - y)/h**3,              0,   z*(h - y)/h**3, (h - x)*(h - y)/h**3,                    0,        -z*(h - y)/h**3, y*(h - x)/h**3,                0,        -y*z/h**3,   x*y/h**3,          0,   y*z/h**3],\n",
       "[                      0,   -(h - x)*(h - y)/h**3,   -(h - x)*(h - z)/h**3,                    0,        -y*(h - x)/h**3, (h - x)*(h - z)/h**3,                0,        -x*y/h**3, x*(h - z)/h**3,                      0,      -x*(h - y)/h**3,      -x*(h - z)/h**3,                0, x*(h - y)/h**3,        -x*z/h**3,                    0, (h - x)*(h - y)/h**3,        -z*(h - x)/h**3,              0,   y*(h - x)/h**3,   z*(h - x)/h**3,          0,   x*y/h**3,   x*z/h**3]])"
      ]
     },
     "execution_count": 7,
     "metadata": {},
     "output_type": "execute_result"
    }
   ],
   "source": [
    "B_S = nabla_S(N)\n",
    "B_R = nabla_R(N)\n",
    "\n",
    "print('Resistive gradient of the shape function matrix, ∇_R*N := B_R')\n",
    "B_R #compare with Equation 28 for the biaxial extension setup"
   ]
  },
  {
   "cell_type": "markdown",
   "metadata": {},
   "source": [
    "## Boundary conditions"
   ]
  },
  {
   "cell_type": "markdown",
   "metadata": {},
   "source": [
    "### Velocity (Dirichlet) boundary conditions"
   ]
  },
  {
   "cell_type": "markdown",
   "metadata": {},
   "source": [
    "The vector of nodal velocities, $\\mathbf{d}$, is given by \n",
    "\n",
    "$$\\mathbf{d} = \\begin{bmatrix}u_{1x} & u_{1y} & u_{1z} & u_{2x} & u_{2y} & u_{2z} & ... & u_{8x} & u_{8y} & u_{8z}\\end{bmatrix}^T$$\n",
    "\n",
    "Many of these components are already known by nature of the setup (see the paragraph following Equation 29), and, thus, constitute **Dirichlet boundary conditions**. For example, $u_{1z} = u_{2z} = u_{3z} = u_{4z} = 0$ because the bottom of the cube rests on a hard barrier. In the biaxial spreading case, by symmetry, $u_x = 0$ on the $y$ axis and $u_y = 0$ on the $y$ axis, and so $u_{1x} = u_{2x} = u_{6x} = u_{7x} = u_{1y} = u_{4y} = u_{5y} = u_{6y} = 0$. For the uniaxial case, there is no lateral flow, and so each $y$ velocity component is also zero. \n",
    "\n",
    "To code this information, we define a list, ```BCs```, having the same length as $\\mathbf{d}$ but consisting only of 1s and 0s. ```BCs``` will have 0s wherever velocity is prescribed to be zero, and 1s wherever velocity is unknown. In the biaxial spreading case, we have:"
   ]
  },
  {
   "cell_type": "code",
   "execution_count": 8,
   "metadata": {},
   "outputs": [],
   "source": [
    "#identify the components with Dirichlet BCs for the biaxial case:\n",
    "BCs = [0, 0, 0, #u_1x, u_1y, u_1z = 0\n",
    "     0, 1, 0, #u_2x, u_2z = 0 while u_2y is unknown\n",
    "     1, 1, 0, #u_3x, u_3y are unknown while u_3z is zero\n",
    "     1, 0, 0, #etc.\n",
    "     1, 0, 1, \n",
    "     0, 0, 1, \n",
    "     0, 1, 1,\n",
    "     1, 1, 1]"
   ]
  },
  {
   "cell_type": "markdown",
   "metadata": {},
   "source": [
    "If we are solving the uniaxial extension problem, then we should additionally set every $u_y$ component to zero:"
   ]
  },
  {
   "cell_type": "code",
   "execution_count": 9,
   "metadata": {},
   "outputs": [],
   "source": [
    "if uniaxial_spread:\n",
    "    for i in range(len(BCs)):\n",
    "        if i%3 == 1: #for u_1y, u_2y, u_3y, etc.:\n",
    "            BCs[i] = 0 #set this component to zero"
   ]
  },
  {
   "cell_type": "markdown",
   "metadata": {},
   "source": [
    "### Traction (Neumann) boundary conditions"
   ]
  },
  {
   "cell_type": "markdown",
   "metadata": {},
   "source": [
    "In the biaxial spreading case discussed in the manuscript, the positive $x$ and $y$ faces are associated with depth-averaged ice cliff boundary conditions:\n",
    "\n",
    "$$\\mathbf{t}_X = \\rho g\\left(z - \\frac{h}{2}\\right)\\hat{\\mathbf{i}}\\hspace{1cm} \\text{and} \\hspace{1cm} \\mathbf{t}_Y = \\rho g\\left(z - \\frac{h}{2}\\right)\\hat{\\mathbf{j}}$$\n",
    "\n",
    "For consistency with the uniaxial case, we can also include a placeholder boundary condition at the negative $Y$ face, setting $\\mathbf{t}_{negY} = \\mathbf{0}$."
   ]
  },
  {
   "cell_type": "code",
   "execution_count": 10,
   "metadata": {},
   "outputs": [],
   "source": [
    "t_X = ρ*g*(z - h/2)*sp.Matrix((1, 0, 0)) #t_X = σ_xx|_{x=h}*i\n",
    "t_Y = ρ*g*(z - h/2)*sp.Matrix((0, 1, 0)) #t_Y = σ_yy|_{y=h}*j\n",
    "t_negY = sp.Matrix((0, 0, 0)) #placeholder value #t_negY = [0, 0, 0]"
   ]
  },
  {
   "cell_type": "markdown",
   "metadata": {},
   "source": [
    "In the uniaxial case, the positive $x$ boundary remains a free ice cliff, but the positive and negative $y$ boundaries must have zero lateral extension; that is, $\\tau_{yy}|_{y = h} = \\tau_{yy}|_{y = 0} = 0$. This is the case when the net stress, $\\sigma_{yy}$, is simply equal to the overburden pressure at these locations. Therefore, in a uniaxial extending regime,\n",
    "\n",
    "$$\\mathbf{t}_{Y} = \\rho g(z-h)\\hat{\\mathbf{j}}\\hspace{1cm} \\text{and} \\hspace{1cm}\\mathbf{t}_{negY} = \\rho g(z-h)\\left(-\\hat{\\mathbf{j}}\\right)$$"
   ]
  },
  {
   "cell_type": "code",
   "execution_count": 11,
   "metadata": {},
   "outputs": [],
   "source": [
    "if uniaxial_spread:\n",
    "    t_Y = ρ*g*(z - h)*sp.Matrix((0, 1, 0)) #t_Y = σ_yy|_{y=h}*j\n",
    "    t_negY = ρ*g*(z - h)*sp.Matrix((0, -1, 0)) #t_negY = σ_yy|_{y=0}*-j"
   ]
  },
  {
   "cell_type": "markdown",
   "metadata": {},
   "source": [
    "## Stiffness matrix and force vector calculation"
   ]
  },
  {
   "cell_type": "markdown",
   "metadata": {},
   "source": [
    "### Stiffness matrix $\\mathbf{K}$"
   ]
  },
  {
   "cell_type": "markdown",
   "metadata": {},
   "source": [
    "We evaluate the stiffness matrix $\\mathbf{K}$ as the triple integral $\\iiint_{x,y,z = 0}^h\\mathbf{B}_S^T\\mu\\mathbf{B}_Rdxdydz$ (see Eq. 33). The symbolic solution will be calculated with SymPy's ```integrate``` function, and the numerical solution will be calculated using SciPy's ```tplquad``` function. \n",
    "\n",
    "Since ```sympy.integrate``` is somewhat slow (it takes about 20 seconds to compute all of $\\mathbf{K}$'s $24^2$ triple integrals symbolically), we'll calculate only the entries of $\\mathbf{K}$ which are needed. Because of how $\\mathbf{K}$ will eventually be [partitioned](#Swapping-and-partitioning), any entry of $\\mathbf{K}$ corresponding to a Dirichlet boundary condition will not influence the solution step; these entries can be ignored (this cuts the symbolic calculation down to about 4 seconds, but it won't make a noticeable difference if solving numerically with ```scipi.integrate.tplquad```, which is already more efficient).  "
   ]
  },
  {
   "cell_type": "code",
   "execution_count": 12,
   "metadata": {},
   "outputs": [],
   "source": [
    "K = sp.zeros(3*n_nodes, 3*n_nodes) #initialize K as a 24x24 matrix of zeros\n",
    "integrand_K = B_S.T*μ*B_R #we'll populate K by integrating select entries of this 24x24 matrix\n",
    "\n",
    "for i in range(K.rows): #for each row:\n",
    "    for j in range(K.cols): #and each column:\n",
    "        if BCs[i] != 0 and BCs[j] != 0: #if NEITHER the row nor the column correspond to a velocity BC:\n",
    "            integrand = integrand_K[i, j] #we'll integrate this entry using one of the methods below.\n",
    "            if symbolic_solution: #if we want a symbolic solution, we'll integrate symbolically:\n",
    "                K[i, j] =  sp.integrate(sp.integrate(sp.integrate(integrand, (x, 0, h)), (y, 0, h)), (z, 0, h))\n",
    "            else: #otherwise, if we just want a numerical solution:\n",
    "                integrand = sp.lambdify((x, y, z), integrand) #interpret integrand as a function\n",
    "                K[i, j] = tplquad(integrand, 0, h, 0, h, 0, h, epsabs=1e-10*μ)[0] #and integrate numerically\n",
    "        #elif the entry DOES correspond to a velocity BC:\n",
    "            #leave it as zero.\n",
    "\n",
    "#Note: setting tplquad argument espabs=1e-10*μ helps avoid a roundoff-error warning.\n",
    "#espabs sets the absolute error tolerance; default value is on the order of 1e-8.\n",
    "#Because μ is such a large number, roundoff errors are inflated to > unit scale, producing the warning.\n",
    "#However, these values are negligible compared to the entries of K, which are of scale μ. \n",
    "#Avoid the warning by increasing the error tolerance to 10 orders of magnitude smaller than μ. "
   ]
  },
  {
   "cell_type": "markdown",
   "metadata": {},
   "source": [
    "### Force vector $\\mathbf{f}$"
   ]
  },
  {
   "cell_type": "markdown",
   "metadata": {},
   "source": [
    "The force vector can be seperated into components $\\mathbf{f} = \\mathbf{f}_\\Gamma + \\mathbf{f}_\\Omega + \\mathbf{f}_\\Lambda$, each of which is calculated similarly to $\\mathbf{K}$ (see Eq. 16 for the general theory, and Eq. 34 for application to the biaxial extension problem)."
   ]
  },
  {
   "cell_type": "code",
   "execution_count": 13,
   "metadata": {},
   "outputs": [],
   "source": [
    "#initialize each component of f:\n",
    "f_Γx, f_Γy, f_Γnegy = sp.zeros(3*n_nodes, 1), sp.zeros(3*n_nodes, 1), sp.zeros(3*n_nodes, 1)\n",
    "f_Ω, f_Λ = sp.zeros(3*n_nodes, 1), sp.zeros(3*n_nodes, 1)\n",
    "    \n",
    "integrand_Γx = N.T.subs(x, h)*t_X #integrand_Γx will be integrated in calculating f_Γx\n",
    "integrand_Γy = N.T.subs(y, h)*t_Y #for calculating f_Γy\n",
    "integrand_Γnegy = N.T.subs(y, 0)*t_negY #for calculating f_Γnegy\n",
    "integrand_Ω = N.T*b #for calculating f_Ω\n",
    "integrand_Λ = B_S.T*Λ #for calculating f_Λ\n",
    "\n",
    "for i in range(3*n_nodes):\n",
    "    if symbolic_solution: #use sympy's symbolic integration function:\n",
    "        f_Γx[i] = sp.integrate(sp.integrate(integrand_Γx[i], (y, 0, h)), (z, 0, h)) #term 1 of Eq. 34\n",
    "        f_Γy[i] = sp.integrate(sp.integrate(integrand_Γy[i], (x, 0, h)), (z, 0, h)) #term 2 of Eq. 34\n",
    "        f_Γnegy[i] = sp.integrate(sp.integrate(integrand_Γnegy[i], (x, 0, h)), (z, 0, h)) #nonzero only if uniaxial\n",
    "        f_Ω[i] = sp.integrate(sp.integrate(sp.integrate(integrand_Ω[i], (x, 0, h)), (y, 0, h)), (z, 0, h)) #term 3\n",
    "        f_Λ[i] = sp.integrate(sp.integrate(sp.integrate(integrand_Λ[i], (x, 0, h)), (y, 0, h)), (z, 0, h)) #term 4\n",
    "    else: #use scipy's numeric integration functions        \n",
    "        f_Γx[i] = dblquad(sp.lambdify((y, z), integrand_Γx[i]), 0, h, 0, h)[0] #term 1 of Eq. 34\n",
    "        f_Γy[i] = dblquad(sp.lambdify((x, z), integrand_Γy[i]), 0, h, 0, h)[0] #term 2\n",
    "        f_Γnegy[i] = dblquad(sp.lambdify((x, z), integrand_Γnegy[i]), 0, h, 0, h)[0] #nonzero only if uniaxial\n",
    "        f_Ω[i] = tplquad(sp.lambdify((x, y, z), integrand_Ω[i]), 0, h, 0, h, 0, h)[0] #term 3\n",
    "        f_Λ[i] = tplquad(sp.lambdify((x, y, z), integrand_Λ[i]), 0, h, 0, h, 0, h)[0] #term 4\n",
    "        \n",
    "f_Γ = f_Γx + f_Γy + f_Γnegy #sum the components of f_Γ\n",
    "f = f_Γ + f_Ω + f_Λ #and obtain the total force vector "
   ]
  },
  {
   "cell_type": "markdown",
   "metadata": {},
   "source": [
    "## Swapping and partitioning"
   ]
  },
  {
   "cell_type": "markdown",
   "metadata": {},
   "source": [
    "In order to partition the finite element system of equations into the form shown in Equation 17, it is necessary to systematically sort $\\mathbf{K}$, $\\mathbf{d}$, and $\\mathbf{f}$. The goal is to rearrange $\\mathbf{d}$ so that the velocity components chosen as boundary conditions appear as the top entries, with the unknown velocity components at the bottom $-$ while simultaneously sorting $\\mathbf{K}$ and $\\mathbf{f}$ so as to preserve the system of linear equations represented by $\\mathbf{K}\\mathbf{d} = \\mathbf{f}$. \n",
    "\n",
    "Bookkeeping will be done via a list, ```order```, which will document the new placement of each component of $\\mathbf{d}$ after sorting.  "
   ]
  },
  {
   "cell_type": "code",
   "execution_count": 14,
   "metadata": {},
   "outputs": [
    {
     "name": "stdout",
     "output_type": "stream",
     "text": [
      "This list shows the new placement of the ith velocity component after sorting:\n"
     ]
    },
    {
     "data": {
      "text/latex": [
       "$\\displaystyle \\left[\\begin{array}0 & 1 & 2 & 3 & 5 & 8 & 10 & 11 & 13 & 15 & 16 & 18 & 4 & 6 & 7 & 9 & 12 & 14 & 17 & 19 & 20 & 21 & 22 & 23\\end{array}\\right]$"
      ],
      "text/plain": [
       "[0, 1, 2, 3, 5, 8, 10, 11, 13, 15, 16, 18, 4, 6, 7, 9, 12, 14, 17, 19, 20, 21, 22, 23]"
      ]
     },
     "execution_count": 14,
     "metadata": {},
     "output_type": "execute_result"
    }
   ],
   "source": [
    "order = sorted(range(3*n_nodes), key = lambda i : BCs[i]) \n",
    "print('This list shows the new placement of the ith velocity component after sorting:')\n",
    "sp.Matrix(order).T"
   ]
  },
  {
   "cell_type": "markdown",
   "metadata": {},
   "source": [
    "For example, the entries labeled ```0``` and ```1``` (which correspond to Dirichlet boundary conditions $u_{1x}$ and $u_{1y}$) have remained at the top of the list, whereas the entries labeled ```6``` and ```9``` (which correspond to unknown velocities $u_{3x}$ and $u_{4x}$) now appear further down in the list. (Compare this with the choice of Dirichlet boundary conditions [above](#Velocity-(Dirichlet)-boundary-conditions).)\n",
    "\n",
    "Next, we'll use this bookkeeper list to help rearrange the elements of $\\mathbf{K}$ and $\\mathbf{f}$. "
   ]
  },
  {
   "cell_type": "code",
   "execution_count": 15,
   "metadata": {},
   "outputs": [],
   "source": [
    "#initialize the element-swapped versions of f and K\n",
    "K_swapped = sp.zeros(K.rows, K.cols)\n",
    "f_swapped = sp.zeros(f.rows, f.cols)\n",
    "\n",
    "#fill the matrices with their appropriate values:\n",
    "for i in range(K.rows):\n",
    "    f_swapped[i] = f[order[i]] #swap the correct rows of f\n",
    "    for j in range(K.cols):\n",
    "        K_swapped[i, j] = K[order[i], order[j]] \n",
    "        #and swap the correct rows AND columns of K\n",
    "\n",
    "#because of how we populated K, all nonzero entries now appear in the bottom right submatrix of K_swapped\n",
    "#uncomment the next line to see the full matrix K_swapped:\n",
    "#K_swapped"
   ]
  },
  {
   "cell_type": "markdown",
   "metadata": {},
   "source": [
    "With reference to Equation 17, we now compute $\\mathbf{K}_F$ and $\\mathbf{f}_F$:"
   ]
  },
  {
   "cell_type": "code",
   "execution_count": 16,
   "metadata": {},
   "outputs": [],
   "source": [
    "#to partition, first count the number of velocity BCs\n",
    "VBCs = BCs.count(0) #This is the number of 0s in the previously-defined list, BCs\n",
    "\n",
    "#Kf and ff are shown in Equation 17\n",
    "ff = sp.Matrix(f_swapped[VBCs:]) #the bottom components of f_swapped\n",
    "Kf =  K_swapped[VBCs:, VBCs:] #the bottom right components of K_swapped"
   ]
  },
  {
   "cell_type": "markdown",
   "metadata": {},
   "source": [
    "## Computing the linear rheology solution"
   ]
  },
  {
   "cell_type": "markdown",
   "metadata": {},
   "source": [
    "### Nodal solution"
   ]
  },
  {
   "cell_type": "markdown",
   "metadata": {},
   "source": [
    "The nodal solution is obtained via Equation 18, with the added simplification that $\\mathbf{d}_E$ is just the zero vector (because every velocity boundary condition is zero). The explicit solution for $\\mathbf{d}_f$ is $\\mathbf{d}_f = \\mathbf{K}_f^{-1}\\mathbf{f}_f$. However, in general, it is more efficient to solve systems of linear equations without performing matrix inversions. Instead, use SymPy's ```linsolve``` function (if solving symbolically) or NumPy's ```linalg.solve``` function (if solving numerically):"
   ]
  },
  {
   "cell_type": "code",
   "execution_count": 17,
   "metadata": {},
   "outputs": [],
   "source": [
    "df = sp.linsolve(Kf, ff) #solves the system Kf*X = ff for unknown X"
   ]
  },
  {
   "cell_type": "markdown",
   "metadata": {},
   "source": [
    "The complete (but still [sorted](#Swapping-and-partitioning)!) list of nodal velocities is now given as the vector $\\begin{bmatrix} \\mathbf{d}_E & \\mathbf{d}_F \\end{bmatrix}^T$:"
   ]
  },
  {
   "cell_type": "code",
   "execution_count": 18,
   "metadata": {},
   "outputs": [],
   "source": [
    "de = [0]*VBCs #the list of known (i.e., zero) velocities\n",
    "df = list(list(df)[0]) #the list of velocities we've just solved for\n",
    "d_swapped = de + df #the complete list of nodal velocities, still sorted"
   ]
  },
  {
   "cell_type": "markdown",
   "metadata": {},
   "source": [
    "Put the elements of ```d_sorted``` back into their original places:"
   ]
  },
  {
   "cell_type": "code",
   "execution_count": 19,
   "metadata": {},
   "outputs": [
    {
     "name": "stdout",
     "output_type": "stream",
     "text": [
      "nodal velocity solution (linear rheology) for [u_1x, u_1y, u1_z, ..., u_8x, u_8y, u_8z]:\n"
     ]
    },
    {
     "data": {
      "text/latex": [
       "$\\displaystyle \\left[\\begin{array}{cccccccccccccccccccccccc}0 & 0 & 0 & 0 & \\frac{g h^{2} ρ}{12 μ} & 0 & \\frac{g h^{2} ρ}{12 μ} & \\frac{g h^{2} ρ}{12 μ} & 0 & \\frac{g h^{2} ρ}{12 μ} & 0 & 0 & \\frac{g h^{2} ρ}{12 μ} & 0 & - \\frac{g h^{2} ρ}{6 μ} & 0 & 0 & - \\frac{g h^{2} ρ}{6 μ} & 0 & \\frac{g h^{2} ρ}{12 μ} & - \\frac{g h^{2} ρ}{6 μ} & \\frac{g h^{2} ρ}{12 μ} & \\frac{g h^{2} ρ}{12 μ} & - \\frac{g h^{2} ρ}{6 μ}\\end{array}\\right]$"
      ],
      "text/plain": [
       "Matrix([[0, 0, 0, 0, g*h**2*ρ/(12*μ), 0, g*h**2*ρ/(12*μ), g*h**2*ρ/(12*μ), 0, g*h**2*ρ/(12*μ), 0, 0, g*h**2*ρ/(12*μ), 0, -g*h**2*ρ/(6*μ), 0, 0, -g*h**2*ρ/(6*μ), 0, g*h**2*ρ/(12*μ), -g*h**2*ρ/(6*μ), g*h**2*ρ/(12*μ), g*h**2*ρ/(12*μ), -g*h**2*ρ/(6*μ)]])"
      ]
     },
     "execution_count": 19,
     "metadata": {},
     "output_type": "execute_result"
    }
   ],
   "source": [
    "d = [0]*3*n_nodes #initialize the final nodal solution\n",
    "for i in range(len(d_swapped)):\n",
    "    d[order[i]] = d_swapped[i] #place the element of d_swapped into its correct position in d\n",
    "d = sp.Matrix(d) #d is now in the order [u_1x, u_1y, u_1z, ..., u_8x, u_8y, u_8z]\n",
    "\n",
    "print('nodal velocity solution (linear rheology) for [u_1x, u_1y, u1_z, ..., u_8x, u_8y, u_8z]:')\n",
    "d.T"
   ]
  },
  {
   "cell_type": "markdown",
   "metadata": {},
   "source": [
    "### Interpolated solution"
   ]
  },
  {
   "cell_type": "markdown",
   "metadata": {},
   "source": [
    "The nodal solution can be used to obtain the *continuous* velocity solution, $\\mathbf{u}$, by interpolation. This is done, by approximation, using the element shape function matrix, with $\\mathbf{u} \\approx \\mathbf{N}\\mathbf{d}$."
   ]
  },
  {
   "cell_type": "code",
   "execution_count": 20,
   "metadata": {},
   "outputs": [
    {
     "name": "stdout",
     "output_type": "stream",
     "text": [
      "interpolated velocity solution (linear rheology) for u_x, u_y, u_z:\n"
     ]
    },
    {
     "data": {
      "text/latex": [
       "$\\displaystyle \\left[\\begin{matrix}\\frac{g h x ρ}{12 μ}\\\\\\frac{g h y ρ}{12 μ}\\\\- \\frac{g h z ρ}{6 μ}\\end{matrix}\\right]$"
      ],
      "text/plain": [
       "Matrix([\n",
       "[g*h*x*ρ/(12*μ)],\n",
       "[g*h*y*ρ/(12*μ)],\n",
       "[-g*h*z*ρ/(6*μ)]])"
      ]
     },
     "execution_count": 20,
     "metadata": {},
     "output_type": "execute_result"
    }
   ],
   "source": [
    "u = N*d #interpolate the nodal solution\n",
    "u = sp.simplify(u) #group like terms to express compactly\n",
    "\n",
    "if not symbolic_solution: #if solving numerically:\n",
    "    def round_expr(expr): #eliminate rounding-error-sized coefficients < 1e-20\n",
    "        return expr.xreplace({n : round(n, 20) for n in expr.atoms(sp.Number)})\n",
    "    u = round_expr(u)\n",
    "\n",
    "print('interpolated velocity solution (linear rheology) for u_x, u_y, u_z:')\n",
    "u #compare with the biaxial extension solution of Equation 38"
   ]
  },
  {
   "cell_type": "markdown",
   "metadata": {},
   "source": [
    "## Postprocessing"
   ]
  },
  {
   "cell_type": "markdown",
   "metadata": {},
   "source": [
    "The next goal will be to compute the [nonlinear rheology solution](#Nonlinear-rheology-solution). However, before this can be done, it is necessary to evaluate the stress field and update the effective viscosity. \n",
    "\n",
    "Our [definition](#Symmetric-and-resistive-gradient-operators) of the operator $\\boldsymbol{\\nabla}_R$ was prompted by the observation that $\\mathbf{R}:= \\mu\\boldsymbol{\\nabla}_R\\mathbf{u}$ represents a list of the resistive stresses. Resistive stresses, in turn, can be used to calculate the deviatoric stresses via Equation 20; once deviatoric stresses are known, the effective stress is obtained via Equation 22, and, subsequently, the effective viscosity can be updated via Equation 21. "
   ]
  },
  {
   "cell_type": "code",
   "execution_count": 21,
   "metadata": {},
   "outputs": [
    {
     "name": "stdout",
     "output_type": "stream",
     "text": [
      "deviatoric stresses [τ_xx, τ_yy, τ_zz, τ_xy, τ_xz, τ_yz]:\n"
     ]
    },
    {
     "data": {
      "text/latex": [
       "$\\displaystyle \\left[\\begin{matrix}\\frac{g h ρ}{6} & \\frac{g h ρ}{6} & - \\frac{g h ρ}{3} & 0 & 0 & 0\\end{matrix}\\right]$"
      ],
      "text/plain": [
       "Matrix([[g*h*ρ/6, g*h*ρ/6, -g*h*ρ/3, 0, 0, 0]])"
      ]
     },
     "execution_count": 21,
     "metadata": {},
     "output_type": "execute_result"
    }
   ],
   "source": [
    "#calculate the resistive stress vector:\n",
    "R = μ*nabla_R(u) #[R_xx, R_yy, R_zz, R_xy, R_xz, R_yz]^T\n",
    "\n",
    "#And the associated deviatoric stresses (Eq. 20)\n",
    "τ = sp.Matrix([sp.Rational(2,3)*R[0] - sp.Rational(1,3)*R[1], #τ_xx\n",
    "                sp.Rational(2,3)*R[1] - sp.Rational(1,3)*R[0], #τ_yy\n",
    "                R[2] - sp.Rational(1,3)*(R[0] + R[1]), #τ_zz\n",
    "                R[3], R[4], R[5]]) #τ_xy, τ_xz, τ_yz\n",
    "\n",
    "#calculate the effective stress τ_E (Eq. 22)\n",
    "expr = sum([τ[i]**2 for i in range(len(τ))])\n",
    "τ_E = sp.sqrt(sp.Rational(1,2)*expr)\n",
    "\n",
    "#update the effective viscosity (Eq. 21)\n",
    "μ_2 = 1/(2*A*τ_E**(n-1))\n",
    "\n",
    "print('deviatoric stresses [τ_xx, τ_yy, τ_zz, τ_xy, τ_xz, τ_yz]:')\n",
    "τ.T"
   ]
  },
  {
   "cell_type": "markdown",
   "metadata": {},
   "source": [
    "## Nonlinear rheology solution"
   ]
  },
  {
   "cell_type": "markdown",
   "metadata": {},
   "source": [
    "In general, to compute the nonlinear rheology solution, it would be necessary to run the whole scrip again with ```μ_2``` in place of ```μ```. But in this case, ```μ_2``` is just a function of $\\rho$, $g$, $h$, and $A$, all of which were assumed constant:"
   ]
  },
  {
   "cell_type": "code",
   "execution_count": 22,
   "metadata": {},
   "outputs": [
    {
     "name": "stdout",
     "output_type": "stream",
     "text": [
      "updated effective viscosity:\n"
     ]
    },
    {
     "data": {
      "text/latex": [
       "$\\displaystyle \\frac{\\left(\\frac{\\sqrt{3} g h ρ}{6}\\right)^{1 - n}}{2 A}$"
      ],
      "text/plain": [
       "(sqrt(3)*g*h*ρ/6)**(1 - n)/(2*A)"
      ]
     },
     "execution_count": 22,
     "metadata": {},
     "output_type": "execute_result"
    }
   ],
   "source": [
    "print('updated effective viscosity:')\n",
    "μ_2 #compare with the biaxial extension value given in Eq. 40"
   ]
  },
  {
   "cell_type": "markdown",
   "metadata": {},
   "source": [
    "Therefore, ```μ_2``` is a constant, like ```μ```, and a second iteration would just return the same solution with ```μ_2``` in place of ```μ```. In this case, we may as well update the solution manually:"
   ]
  },
  {
   "cell_type": "markdown",
   "metadata": {},
   "source": [
    "### Nodal solution"
   ]
  },
  {
   "cell_type": "code",
   "execution_count": 23,
   "metadata": {},
   "outputs": [
    {
     "name": "stdout",
     "output_type": "stream",
     "text": [
      "nodal velocity solution (nonlinear rheology) for [u_1x, u_1y, u1_z, ..., u_8x, u_8y, u_8z]:\n"
     ]
    },
    {
     "data": {
      "text/latex": [
       "$\\displaystyle \\left[\\begin{array}{cccccccccccccccccccccccc}0 & 0 & 0 & 0 & 6^{- n} A g h^{2} ρ \\left(\\sqrt{3} g h ρ\\right)^{n - 1} & 0 & 6^{- n} A g h^{2} ρ \\left(\\sqrt{3} g h ρ\\right)^{n - 1} & 6^{- n} A g h^{2} ρ \\left(\\sqrt{3} g h ρ\\right)^{n - 1} & 0 & 6^{- n} A g h^{2} ρ \\left(\\sqrt{3} g h ρ\\right)^{n - 1} & 0 & 0 & 6^{- n} A g h^{2} ρ \\left(\\sqrt{3} g h ρ\\right)^{n - 1} & 0 & - 2 \\cdot 6^{- n} A g h^{2} ρ \\left(\\sqrt{3} g h ρ\\right)^{n - 1} & 0 & 0 & - 2 \\cdot 6^{- n} A g h^{2} ρ \\left(\\sqrt{3} g h ρ\\right)^{n - 1} & 0 & 6^{- n} A g h^{2} ρ \\left(\\sqrt{3} g h ρ\\right)^{n - 1} & - 2 \\cdot 6^{- n} A g h^{2} ρ \\left(\\sqrt{3} g h ρ\\right)^{n - 1} & 6^{- n} A g h^{2} ρ \\left(\\sqrt{3} g h ρ\\right)^{n - 1} & 6^{- n} A g h^{2} ρ \\left(\\sqrt{3} g h ρ\\right)^{n - 1} & - 2 \\cdot 6^{- n} A g h^{2} ρ \\left(\\sqrt{3} g h ρ\\right)^{n - 1}\\end{array}\\right]$"
      ],
      "text/plain": [
       "Matrix([[0, 0, 0, 0, 6**(-n)*A*g*h**2*ρ*(sqrt(3)*g*h*ρ)**(n - 1), 0, 6**(-n)*A*g*h**2*ρ*(sqrt(3)*g*h*ρ)**(n - 1), 6**(-n)*A*g*h**2*ρ*(sqrt(3)*g*h*ρ)**(n - 1), 0, 6**(-n)*A*g*h**2*ρ*(sqrt(3)*g*h*ρ)**(n - 1), 0, 0, 6**(-n)*A*g*h**2*ρ*(sqrt(3)*g*h*ρ)**(n - 1), 0, -2*6**(-n)*A*g*h**2*ρ*(sqrt(3)*g*h*ρ)**(n - 1), 0, 0, -2*6**(-n)*A*g*h**2*ρ*(sqrt(3)*g*h*ρ)**(n - 1), 0, 6**(-n)*A*g*h**2*ρ*(sqrt(3)*g*h*ρ)**(n - 1), -2*6**(-n)*A*g*h**2*ρ*(sqrt(3)*g*h*ρ)**(n - 1), 6**(-n)*A*g*h**2*ρ*(sqrt(3)*g*h*ρ)**(n - 1), 6**(-n)*A*g*h**2*ρ*(sqrt(3)*g*h*ρ)**(n - 1), -2*6**(-n)*A*g*h**2*ρ*(sqrt(3)*g*h*ρ)**(n - 1)]])"
      ]
     },
     "execution_count": 23,
     "metadata": {},
     "output_type": "execute_result"
    }
   ],
   "source": [
    "d_2 = sp.simplify(d*μ/μ_2) #cancel out μ and replace with μ_2 in the denominator\n",
    "\n",
    "print('nodal velocity solution (nonlinear rheology) for [u_1x, u_1y, u1_z, ..., u_8x, u_8y, u_8z]:')\n",
    "d_2.T"
   ]
  },
  {
   "cell_type": "markdown",
   "metadata": {},
   "source": [
    "### Interpolated solution"
   ]
  },
  {
   "cell_type": "code",
   "execution_count": 24,
   "metadata": {},
   "outputs": [
    {
     "name": "stdout",
     "output_type": "stream",
     "text": [
      "interpolated velocity solution (nonlinear rheology) for u_x, u_y, u_z:\n"
     ]
    },
    {
     "data": {
      "text/latex": [
       "$\\displaystyle \\left[\\begin{matrix}3^{\\frac{n}{2} - \\frac{1}{2}} A x \\left(\\frac{g h ρ}{6}\\right)^{n}\\\\3^{\\frac{n}{2} - \\frac{1}{2}} A y \\left(\\frac{g h ρ}{6}\\right)^{n}\\\\- 2 \\cdot 3^{\\frac{n}{2} - \\frac{1}{2}} A z \\left(\\frac{g h ρ}{6}\\right)^{n}\\end{matrix}\\right]$"
      ],
      "text/plain": [
       "Matrix([\n",
       "[   3**(n/2 - 1/2)*A*x*(g*h*ρ/6)**n],\n",
       "[   3**(n/2 - 1/2)*A*y*(g*h*ρ/6)**n],\n",
       "[-2*3**(n/2 - 1/2)*A*z*(g*h*ρ/6)**n]])"
      ]
     },
     "execution_count": 24,
     "metadata": {},
     "output_type": "execute_result"
    }
   ],
   "source": [
    "u_2 = sp.simplify(N*d_2) #interpolate via u_2 = N*d_2\n",
    "\n",
    "if not symbolic_solution: #if solving numerically:\n",
    "    u_2 = round_expr(u_2) #remove rounding-error-sized coefficients\n",
    "\n",
    "print('interpolated velocity solution (nonlinear rheology) for u_x, u_y, u_z:')\n",
    "u_2 #compare with the biaxial extension solution of Equation 41"
   ]
  }
 ],
 "metadata": {
  "kernelspec": {
   "display_name": "Python 3",
   "language": "python",
   "name": "python3"
  },
  "language_info": {
   "codemirror_mode": {
    "name": "ipython",
    "version": 3
   },
   "file_extension": ".py",
   "mimetype": "text/x-python",
   "name": "python",
   "nbconvert_exporter": "python",
   "pygments_lexer": "ipython3",
   "version": "3.6.7"
  }
 },
 "nbformat": 4,
 "nbformat_minor": 5
}
